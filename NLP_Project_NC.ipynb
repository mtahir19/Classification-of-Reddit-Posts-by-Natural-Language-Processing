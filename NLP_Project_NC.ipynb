{
 "cells": [
  {
   "cell_type": "markdown",
   "metadata": {},
   "source": [
    "# Project 3:  Reddit Posts Classification Analysis"
   ]
  },
  {
   "cell_type": "markdown",
   "metadata": {},
   "source": [
    "### Muhammad Tahir @ Data Science Immersive at General Assembly"
   ]
  },
  {
   "cell_type": "markdown",
   "metadata": {},
   "source": [
    "## Par-1:  Imports and Data Extraction"
   ]
  },
  {
   "cell_type": "markdown",
   "metadata": {},
   "source": [
    "## Imports"
   ]
  },
  {
   "cell_type": "code",
   "execution_count": 2,
   "metadata": {},
   "outputs": [],
   "source": [
    "# Required Imports \n",
    "import pandas as pd\n",
    "import numpy as np\n",
    "import requests\n",
    "import time\n",
    "from nltk.stem import WordNetLemmatizer\n",
    "from nltk.tokenize import RegexpTokenizer\n",
    "from sklearn.feature_extraction.text import CountVectorizer,TfidfVectorizer,HashingVectorizer\n",
    "import regex as re\n",
    "from sklearn.feature_extraction import text\n",
    "import matplotlib.pyplot as plt\n",
    "import seaborn as sns"
   ]
  },
  {
   "cell_type": "markdown",
   "metadata": {},
   "source": [
    "## Data Extraction"
   ]
  },
  {
   "cell_type": "code",
   "execution_count": 3,
   "metadata": {},
   "outputs": [],
   "source": [
    "# https://www.reddit.com/r/conspiracy/ & https://www.reddit.com/r/TheOnion/"
   ]
  },
  {
   "cell_type": "code",
   "execution_count": 4,
   "metadata": {},
   "outputs": [],
   "source": [
    "url_onion = 'https://www.reddit.com/r/TheOnion/.json'\n",
    "url_conspiracy = 'https://www.reddit.com/r/conspiracy/.json'\n",
    "user_header = {'User-agent': 'JaneJacobs'} # header to prevent error 429"
   ]
  },
  {
   "cell_type": "code",
   "execution_count": 5,
   "metadata": {},
   "outputs": [],
   "source": [
    "def get_subreddit(url, n_pulls, header):\n",
    "    # initialize empty requirements\n",
    "    posts = []\n",
    "    after = None\n",
    "    \n",
    "    # Create a loop that does a max of 25 requests per pull\n",
    "    for pull_num in range(n_pulls):\n",
    "        print(f'Pulling data attempted {pull_num+1} times')\n",
    "        \n",
    "        if (after == None):\n",
    "            new_url = url         # base case\n",
    "        else:\n",
    "            new_url = url+\"?after=\"+after   # subsequent iterations\n",
    "            \n",
    "        res = requests.get(new_url, headers = header)\n",
    "        \n",
    "        if (res.status_code == 200):\n",
    "            subreddit_json = res.json()                       # Pull json\n",
    "            posts.extend(subreddit_json['data']['children'])  # Get subreddit posts\n",
    "            after = subreddit_json['data']['after']           # after = ID of last post in iteration\n",
    "        else:\n",
    "            print(f'It would appear there has been an error. Status Code: {res.status_code}')\n",
    "            break\n",
    "        time.sleep(1)\n",
    "    \n",
    "    return(posts)"
   ]
  },
  {
   "cell_type": "code",
   "execution_count": 8,
   "metadata": {},
   "outputs": [
    {
     "name": "stdout",
     "output_type": "stream",
     "text": [
      "Pulling data attempted 1 times\n",
      "Pulling data attempted 2 times\n",
      "Pulling data attempted 3 times\n",
      "Pulling data attempted 4 times\n",
      "Pulling data attempted 5 times\n",
      "Pulling data attempted 6 times\n",
      "Pulling data attempted 7 times\n",
      "Pulling data attempted 8 times\n",
      "Pulling data attempted 9 times\n",
      "Pulling data attempted 10 times\n",
      "Pulling data attempted 11 times\n",
      "Pulling data attempted 12 times\n",
      "Pulling data attempted 13 times\n",
      "Pulling data attempted 14 times\n",
      "Pulling data attempted 15 times\n",
      "Pulling data attempted 16 times\n",
      "Pulling data attempted 17 times\n",
      "Pulling data attempted 18 times\n",
      "Pulling data attempted 19 times\n",
      "Pulling data attempted 20 times\n",
      "Pulling data attempted 21 times\n",
      "Pulling data attempted 22 times\n",
      "Pulling data attempted 23 times\n",
      "Pulling data attempted 24 times\n",
      "Pulling data attempted 25 times\n",
      "Pulling data attempted 26 times\n",
      "Pulling data attempted 27 times\n",
      "Pulling data attempted 28 times\n",
      "Pulling data attempted 29 times\n",
      "Pulling data attempted 30 times\n",
      "Pulling data attempted 31 times\n",
      "Pulling data attempted 32 times\n",
      "Pulling data attempted 33 times\n",
      "Pulling data attempted 34 times\n",
      "Pulling data attempted 35 times\n",
      "Pulling data attempted 36 times\n",
      "Pulling data attempted 37 times\n",
      "Pulling data attempted 38 times\n",
      "Pulling data attempted 39 times\n",
      "Pulling data attempted 40 times\n"
     ]
    }
   ],
   "source": [
    "onion_posts = get_subreddit(url_onion, n_pulls = 40, header=user_header)"
   ]
  },
  {
   "cell_type": "code",
   "execution_count": 9,
   "metadata": {},
   "outputs": [
    {
     "data": {
      "text/plain": [
       "978"
      ]
     },
     "execution_count": 9,
     "metadata": {},
     "output_type": "execute_result"
    }
   ],
   "source": [
    "len(onion_posts)"
   ]
  },
  {
   "cell_type": "code",
   "execution_count": 10,
   "metadata": {},
   "outputs": [],
   "source": [
    "def pull_posts(posts):\n",
    "    \n",
    "    post_titles = []\n",
    "    for i in range(len(posts)):\n",
    "        titles = {}\n",
    "        titles['title']     = posts[i]['data']['title']\n",
    "        titles['subreddit'] = posts[i]['data']['subreddit']\n",
    "        titles['id']        = posts[i]['data']['id']\n",
    "        post_titles.append(titles)\n",
    "\n",
    "    return(pd.DataFrame(post_titles))"
   ]
  },
  {
   "cell_type": "code",
   "execution_count": 11,
   "metadata": {},
   "outputs": [
    {
     "data": {
      "text/html": [
       "<div>\n",
       "<style scoped>\n",
       "    .dataframe tbody tr th:only-of-type {\n",
       "        vertical-align: middle;\n",
       "    }\n",
       "\n",
       "    .dataframe tbody tr th {\n",
       "        vertical-align: top;\n",
       "    }\n",
       "\n",
       "    .dataframe thead th {\n",
       "        text-align: right;\n",
       "    }\n",
       "</style>\n",
       "<table border=\"1\" class=\"dataframe\">\n",
       "  <thead>\n",
       "    <tr style=\"text-align: right;\">\n",
       "      <th></th>\n",
       "      <th>title</th>\n",
       "      <th>subreddit</th>\n",
       "      <th>id</th>\n",
       "    </tr>\n",
       "  </thead>\n",
       "  <tbody>\n",
       "    <tr>\n",
       "      <th>0</th>\n",
       "      <td>Parliamentarian Cuts Minimum Wage From Stimulu...</td>\n",
       "      <td>TheOnion</td>\n",
       "      <td>lt7cvj</td>\n",
       "    </tr>\n",
       "    <tr>\n",
       "      <th>1</th>\n",
       "      <td>Democrat Reassures Friend This One Of The Good...</td>\n",
       "      <td>TheOnion</td>\n",
       "      <td>ltfhgo</td>\n",
       "    </tr>\n",
       "    <tr>\n",
       "      <th>2</th>\n",
       "      <td>Goals Of Biden Administration Reviewing U.S. S...</td>\n",
       "      <td>TheOnion</td>\n",
       "      <td>lszpl2</td>\n",
       "    </tr>\n",
       "    <tr>\n",
       "      <th>3</th>\n",
       "      <td>Biden Comforts Families Of Syrian Airstrike Vi...</td>\n",
       "      <td>TheOnion</td>\n",
       "      <td>lt6h9d</td>\n",
       "    </tr>\n",
       "    <tr>\n",
       "      <th>4</th>\n",
       "      <td>Florida GOP Introduces Ballotless Voting In Di...</td>\n",
       "      <td>TheOnion</td>\n",
       "      <td>lsekit</td>\n",
       "    </tr>\n",
       "  </tbody>\n",
       "</table>\n",
       "</div>"
      ],
      "text/plain": [
       "                                               title subreddit      id\n",
       "0  Parliamentarian Cuts Minimum Wage From Stimulu...  TheOnion  lt7cvj\n",
       "1  Democrat Reassures Friend This One Of The Good...  TheOnion  ltfhgo\n",
       "2  Goals Of Biden Administration Reviewing U.S. S...  TheOnion  lszpl2\n",
       "3  Biden Comforts Families Of Syrian Airstrike Vi...  TheOnion  lt6h9d\n",
       "4  Florida GOP Introduces Ballotless Voting In Di...  TheOnion  lsekit"
      ]
     },
     "execution_count": 11,
     "metadata": {},
     "output_type": "execute_result"
    }
   ],
   "source": [
    "df_onion = pull_posts(onion_posts)\n",
    "df_onion.head()"
   ]
  },
  {
   "cell_type": "code",
   "execution_count": 12,
   "metadata": {},
   "outputs": [
    {
     "name": "stdout",
     "output_type": "stream",
     "text": [
      "Pulling data attempted 1 times\n",
      "Pulling data attempted 2 times\n",
      "Pulling data attempted 3 times\n",
      "Pulling data attempted 4 times\n",
      "Pulling data attempted 5 times\n",
      "Pulling data attempted 6 times\n",
      "Pulling data attempted 7 times\n",
      "Pulling data attempted 8 times\n",
      "Pulling data attempted 9 times\n",
      "Pulling data attempted 10 times\n",
      "Pulling data attempted 11 times\n",
      "Pulling data attempted 12 times\n",
      "Pulling data attempted 13 times\n",
      "Pulling data attempted 14 times\n",
      "Pulling data attempted 15 times\n",
      "Pulling data attempted 16 times\n",
      "Pulling data attempted 17 times\n",
      "Pulling data attempted 18 times\n",
      "Pulling data attempted 19 times\n",
      "Pulling data attempted 20 times\n",
      "Pulling data attempted 21 times\n",
      "Pulling data attempted 22 times\n",
      "Pulling data attempted 23 times\n",
      "Pulling data attempted 24 times\n",
      "Pulling data attempted 25 times\n",
      "Pulling data attempted 26 times\n",
      "Pulling data attempted 27 times\n",
      "Pulling data attempted 28 times\n",
      "Pulling data attempted 29 times\n",
      "Pulling data attempted 30 times\n",
      "Pulling data attempted 31 times\n",
      "Pulling data attempted 32 times\n",
      "Pulling data attempted 33 times\n",
      "Pulling data attempted 34 times\n",
      "Pulling data attempted 35 times\n",
      "Pulling data attempted 36 times\n",
      "Pulling data attempted 37 times\n",
      "Pulling data attempted 38 times\n",
      "Pulling data attempted 39 times\n",
      "Pulling data attempted 40 times\n",
      "Pulling data attempted 41 times\n"
     ]
    }
   ],
   "source": [
    "conspiracy_posts = get_subreddit(url_conspiracy, n_pulls = 41, header=user_header)"
   ]
  },
  {
   "cell_type": "code",
   "execution_count": 14,
   "metadata": {},
   "outputs": [
    {
     "data": {
      "text/html": [
       "<div>\n",
       "<style scoped>\n",
       "    .dataframe tbody tr th:only-of-type {\n",
       "        vertical-align: middle;\n",
       "    }\n",
       "\n",
       "    .dataframe tbody tr th {\n",
       "        vertical-align: top;\n",
       "    }\n",
       "\n",
       "    .dataframe thead th {\n",
       "        text-align: right;\n",
       "    }\n",
       "</style>\n",
       "<table border=\"1\" class=\"dataframe\">\n",
       "  <thead>\n",
       "    <tr style=\"text-align: right;\">\n",
       "      <th></th>\n",
       "      <th>title</th>\n",
       "      <th>subreddit</th>\n",
       "      <th>id</th>\n",
       "    </tr>\n",
       "  </thead>\n",
       "  <tbody>\n",
       "    <tr>\n",
       "      <th>0</th>\n",
       "      <td>Never forget Gary Webb; The reporter who sacri...</td>\n",
       "      <td>conspiracy</td>\n",
       "      <td>lap3gy</td>\n",
       "    </tr>\n",
       "    <tr>\n",
       "      <th>1</th>\n",
       "      <td>Police are required to wear body cameras how d...</td>\n",
       "      <td>conspiracy</td>\n",
       "      <td>lucwwi</td>\n",
       "    </tr>\n",
       "    <tr>\n",
       "      <th>2</th>\n",
       "      <td>Stating The Obvious</td>\n",
       "      <td>conspiracy</td>\n",
       "      <td>luiepa</td>\n",
       "    </tr>\n",
       "    <tr>\n",
       "      <th>3</th>\n",
       "      <td>Name one time in history the people burning bo...</td>\n",
       "      <td>conspiracy</td>\n",
       "      <td>ltu54k</td>\n",
       "    </tr>\n",
       "    <tr>\n",
       "      <th>4</th>\n",
       "      <td>Germans scientists say that Vitamin D increase...</td>\n",
       "      <td>conspiracy</td>\n",
       "      <td>lu88lj</td>\n",
       "    </tr>\n",
       "  </tbody>\n",
       "</table>\n",
       "</div>"
      ],
      "text/plain": [
       "                                               title   subreddit      id\n",
       "0  Never forget Gary Webb; The reporter who sacri...  conspiracy  lap3gy\n",
       "1  Police are required to wear body cameras how d...  conspiracy  lucwwi\n",
       "2                                Stating The Obvious  conspiracy  luiepa\n",
       "3  Name one time in history the people burning bo...  conspiracy  ltu54k\n",
       "4  Germans scientists say that Vitamin D increase...  conspiracy  lu88lj"
      ]
     },
     "execution_count": 14,
     "metadata": {},
     "output_type": "execute_result"
    }
   ],
   "source": [
    "df_conspiracy = pull_posts(conspiracy_posts)\n",
    "df_conspiracy.head()"
   ]
  },
  {
   "cell_type": "code",
   "execution_count": 15,
   "metadata": {},
   "outputs": [
    {
     "data": {
      "text/plain": [
       "(978, 3)"
      ]
     },
     "execution_count": 15,
     "metadata": {},
     "output_type": "execute_result"
    }
   ],
   "source": [
    "df_onion.shape"
   ]
  },
  {
   "cell_type": "code",
   "execution_count": 16,
   "metadata": {},
   "outputs": [],
   "source": [
    "df_onion.drop_duplicates(subset = 'id',inplace = True)"
   ]
  },
  {
   "cell_type": "code",
   "execution_count": 17,
   "metadata": {},
   "outputs": [
    {
     "data": {
      "text/plain": [
       "(928, 3)"
      ]
     },
     "execution_count": 17,
     "metadata": {},
     "output_type": "execute_result"
    }
   ],
   "source": [
    "df_onion.shape"
   ]
  },
  {
   "cell_type": "code",
   "execution_count": 18,
   "metadata": {},
   "outputs": [
    {
     "data": {
      "text/plain": [
       "(1025, 3)"
      ]
     },
     "execution_count": 18,
     "metadata": {},
     "output_type": "execute_result"
    }
   ],
   "source": [
    "df_conspiracy.shape"
   ]
  },
  {
   "cell_type": "code",
   "execution_count": 19,
   "metadata": {},
   "outputs": [],
   "source": [
    "df_conspiracy.drop_duplicates(subset = 'id',inplace = True)"
   ]
  },
  {
   "cell_type": "code",
   "execution_count": 20,
   "metadata": {},
   "outputs": [
    {
     "data": {
      "text/plain": [
       "(924, 3)"
      ]
     },
     "execution_count": 20,
     "metadata": {},
     "output_type": "execute_result"
    }
   ],
   "source": [
    "df_conspiracy.shape"
   ]
  },
  {
   "cell_type": "markdown",
   "metadata": {},
   "source": [
    "# Part-2:  Exploratory Data Analysis"
   ]
  },
  {
   "cell_type": "markdown",
   "metadata": {},
   "source": [
    "### Tokenizing and Lemmatizing Data"
   ]
  },
  {
   "cell_type": "code",
   "execution_count": 21,
   "metadata": {
    "code_folding": []
   },
   "outputs": [],
   "source": [
    "def tokenize_lemmatize(text_col):\n",
    "    # Instantiate tokenizer\n",
    "    tokenizer = RegexpTokenizer(r'[A-z]+')\n",
    "    \n",
    "    # Tokenize text\n",
    "    tokens = [tokenizer.tokenize(post.lower()) for post in text_col]\n",
    "    \n",
    "    # Instantiate lemmatizer\n",
    "    lemmatizer = WordNetLemmatizer()\n",
    "    tokens_lem = []\n",
    "    # lemmatize words\n",
    "    for words in tokens:\n",
    "        lem_list = [lemmatizer.lemmatize(i) for i in words]\n",
    "        lem_post = ''\n",
    "        for word in lem_list:\n",
    "            lem_post += (word+' ')\n",
    "        tokens_lem.append(lem_post.strip())\n",
    "    \n",
    "    return (tokens_lem)"
   ]
  },
  {
   "cell_type": "code",
   "execution_count": 22,
   "metadata": {},
   "outputs": [],
   "source": [
    "lemma_token_list = tokenize_lemmatize(df_onion['title'])"
   ]
  },
  {
   "cell_type": "code",
   "execution_count": 23,
   "metadata": {
    "scrolled": true
   },
   "outputs": [
    {
     "data": {
      "text/plain": [
       "'goal of biden administration reviewing u s supply chain'"
      ]
     },
     "execution_count": 23,
     "metadata": {},
     "output_type": "execute_result"
    }
   ],
   "source": [
    "lemma_token_list[2]"
   ]
  },
  {
   "cell_type": "code",
   "execution_count": 24,
   "metadata": {},
   "outputs": [],
   "source": [
    "cvec = CountVectorizer()\n",
    "lemma_features = cvec.fit_transform(lemma_token_list)\n"
   ]
  },
  {
   "cell_type": "code",
   "execution_count": 26,
   "metadata": {},
   "outputs": [
    {
     "data": {
      "text/plain": [
       "<928x3897 sparse matrix of type '<class 'numpy.int64'>'\n",
       "\twith 11458 stored elements in Compressed Sparse Row format>"
      ]
     },
     "execution_count": 26,
     "metadata": {},
     "output_type": "execute_result"
    }
   ],
   "source": [
    "lemma_features"
   ]
  },
  {
   "cell_type": "code",
   "execution_count": 27,
   "metadata": {},
   "outputs": [
    {
     "name": "stdout",
     "output_type": "stream",
     "text": [
      "['abandoned', 'abducted', 'abduction', 'able', 'about', 'absentee', 'accepting', 'access', 'accidentally', 'accomplish', 'account', 'accuse', 'accused', 'achieve', 'across', 'act', 'acting', 'action', 'active', 'activist', 'actor', 'actual', 'actually', 'ad', 'adam', 'add', 'added', 'adding', 'address', 'addressing', 'adelson', 'adequately', 'adjusting', 'administering', 'administration', 'administrative', 'admit', 'admits', 'adopted', 'adopting', 'adult', 'advertisement', 'advertising', 'advisor', 'advisory', 'affect', 'affluent', 'afford', 'africa', 'african', 'after', 'afterlife', 'afternoon', 'again', 'against', 'age', 'aged', 'agenda', 'agent', 'aging', 'ago', 'agony', 'agree', 'agrees', 'agriculture', 'ah', 'ahead', 'ahistorical', 'ai', 'aid', 'air', 'airbnb', 'airborne', 'airplane', 'airport', 'airstrike', 'airstrikes', 'aka', 'al', 'alarm', 'alarming', 'albino', 'album', 'albuquerque', 'alert', 'alex', 'alexandria', 'algorithm', 'alien', 'alienating', 'alike', 'alive', 'all', 'alleges', 'alleging', 'allergic', 'allocates', 'allow', 'allows', 'almost', 'alone', 'along', 'already', 'also', 'alternate', 'always', 'am', 'amazing', 'amazon', 'america', 'american', 'amigo', 'amnesia', 'amount', 'amp', 'amtrak', 'amy', 'an', 'analyst', 'anarchist', 'ancient', 'and', 'andrew', 'anecdote', 'angel', 'animal', 'animator', 'announce', 'announced', 'announcement', 'announces', 'announcing', 'annoyed', 'annoying', 'annual', 'annually', 'another', 'answer', 'answered', 'anthony', 'anti', 'antibody', 'anticipated', 'antonio', 'anxious', 'any', 'anymore', 'anyone', 'anything', 'anyway', 'anywhere', 'apart', 'apartment', 'aplomb', 'apologetic', 'apologist', 'apologize', 'apologizes', 'apology', 'app', 'apparent', 'apparently', 'appeal', 'appear', 'appearance', 'appearing', 'apple', 'applies', 'appreciate', 'approaching', 'april', 'arborist', 'arc', 'arch', 'archaeological', 'archangel', 'are', 'area', 'aren', 'argue', 'argument', 'arians', 'arm', 'armed', 'around', 'arrest', 'arrested', 'arrive', 'arrogant', 'art', 'article', 'artificial', 'artist', 'as', 'ashamed', 'ashley', 'ashly', 'ask', 'asked', 'asking', 'asks', 'aspiring', 'ass', 'assailant', 'assault', 'assed', 'asshole', 'assignment', 'assistance', 'assistant', 'assuages', 'assume', 'assuming', 'assures', 'asthma', 'astronaut', 'astronomer', 'at', 'atlanta', 'atomic', 'attach', 'attack', 'attempt', 'attempting', 'attend', 'attendee', 'attention', 'attic', 'attorney', 'attract', 'attribute', 'audience', 'audubon', 'august', 'australia', 'australian', 'auteur', 'authoritarian', 'autism', 'autocratic', 'available', 'avatar', 'average', 'avert', 'avoid', 'awake', 'award', 'away', 'awe', 'awkward', 'babbling', 'baboon', 'baby', 'bach', 'bachelorette', 'bachmann', 'back', 'backboard', 'background', 'backseat', 'bad', 'bader', 'badly', 'bag', 'bahamas', 'baker', 'bakes', 'ball', 'balloon', 'ballot', 'ballotless', 'ballpark', 'ban', 'banana', 'bandolier', 'bang', 'banger', 'banging', 'bank', 'banking', 'bankrupted', 'banned', 'banning', 'bannon', 'bar', 'barack', 'barcode', 'barn', 'barr', 'barrett', 'barrier', 'barron', 'base', 'baseball', 'baseless', 'basket', 'bat', 'batch', 'bath', 'battle', 'bay', 'be', 'bean', 'bear', 'beat', 'beaten', 'beautification', 'beautiful', 'beauty', 'because', 'beckham', 'beckons', 'become', 'becomes', 'becoming', 'bed', 'bee', 'been', 'before', 'begin', 'beginning', 'begs', 'behavior', 'behind', 'beijing', 'being', 'belichick', 'belief', 'believe', 'bell', 'beloved', 'ben', 'bender', 'bengal', 'berates', 'best', 'bet', 'bethesda', 'betsy', 'better', 'betts', 'between', 'beyond', 'bezos', 'biased', 'bible', 'bid', 'biden', 'big', 'bigger', 'biggest', 'bill', 'billion', 'billionaire', 'bingo', 'bio', 'biological', 'bird', 'birth', 'birthday', 'bitch', 'bite', 'bitten', 'bitter', 'black', 'blaine', 'bland', 'blank', 'blatant', 'bleszinski', 'blistered', 'blitzer', 'block', 'blog', 'bloke', 'blood', 'bloodied', 'bloodline', 'bloody', 'bloomberg', 'blow', 'blowing', 'blue', 'bluetooth', 'bmw', 'board', 'bob', 'bobby', 'body', 'boebert', 'boil', 'bold', 'bolivian', 'bolster', 'bolted', 'bolton', 'bonanza', 'book', 'bookstore', 'booster', 'booth', 'booty', 'bored', 'born', 'boston', 'bottle', 'bought', 'boulder', 'bounce', 'bounty', 'box', 'boxing', 'boy', 'boyfriend', 'bradshaw', 'brady', 'brain', 'brand', 'brat', 'breach', 'break', 'breakfast', 'breaking', 'breast', 'breastfeeding', 'breath', 'breathe', 'bred', 'breeze', 'breyer', 'brian', 'bribe', 'brick', 'bridesmaid', 'bridge', 'brief', 'briefing', 'bring', 'bringing', 'brings', 'brink', 'briny', 'brisk', 'british', 'britney', 'broadcast', 'broadway', 'broke', 'brokeback', 'broken', 'brooklyn', 'brother', 'brown', 'bruce', 'brutal', 'bryan', 'bubble', 'buccaneer', 'buckingham', 'buick', 'build', 'building', 'bulge', 'bullshit', 'bunch', 'bungee', 'burch', 'burger', 'burglar', 'burial', 'buried', 'burlap', 'burlington', 'burn', 'burned', 'burning', 'burrito', 'burrow', 'bursting', 'bush', 'business', 'but', 'butt', 'buttigieg', 'button', 'buy', 'buzz', 'by', 'cabal', 'cabinet', 'caf', 'cafe', 'cake', 'calf', 'california', 'call', 'called', 'calling', 'calorie', 'cam', 'came', 'camera', 'campaign', 'camping', 'can', 'cancel', 'canceled', 'cancelled', 'cancer', 'candidate', 'cane', 'cantata', 'capable', 'capacity', 'capitol', 'captivity', 'car', 'cardboard', 'care', 'career', 'carefully', 'caring', 'carlson', 'carolina', 'carry', 'carrying', 'carter', 'cartman', 'case', 'cash', 'cashier', 'cashing', 'cast', 'cat', 'catch', 'catching', 'categorize', 'catholic', 'caucasian', 'caught', 'cause', 'caused', 'cave', 'cd', 'cdc', 'ceiling', 'celebrates', 'celebrating', 'celebration', 'celebrity', 'cell', 'celtic', 'cena', 'censoring', 'censure', 'census', 'cent', 'center', 'central', 'ceo', 'certificate', 'certification', 'chain', 'challenging', 'chamber', 'championship', 'chance', 'change', 'changing', 'channel', 'character', 'charade', 'charger', 'charismatic', 'charity', 'charmin', 'chase', 'chat', 'cheap', 'cheat', 'check', 'cheek', 'cheer', 'cheese', 'chef', 'chelsea', 'chest', 'chew', 'chicago', 'chick', 'chicken', 'chief', 'chihuahua', 'child', 'chimpanzee', 'china', 'chinese', 'chipper', 'choice', 'choking', 'chophouse', 'chris', 'christ', 'christian', 'christmas', 'christopher', 'chuck', 'church', 'cinco', 'circle', 'citing', 'citizen', 'city', 'civil', 'civilization', 'ck', 'claim', 'claiming', 'clambering', 'clarence', 'clarifies', 'clarify', 'clash', 'class', 'classic', 'classmate', 'claus', 'clean', 'cleaning', 'clear', 'clearly', 'clerk', 'cleveland', 'client', 'cliff', 'climate', 'clinton', 'cloaked', 'clock', 'clooney', 'close', 'closed', 'closer', 'closet', 'closing', 'clothes', 'cloud', 'club', 'clumsy', 'cnn', 'coach', 'coat', 'cocaine', 'cock', 'cocktail', 'coding', 'coin', 'cold', 'collaborating', 'collapse', 'collection', 'collector', 'college', 'color', 'com', 'combo', 'come', 'comfort', 'comic', 'coming', 'command', 'commandeer', 'commemorating', 'comment', 'commentary', 'commentator', 'commercial', 'commissary', 'commission', 'commissioned', 'committed', 'committee', 'common', 'community', 'company', 'compete', 'competent', 'competitive', 'complete', 'completely', 'complicit', 'comply', 'computer', 'con', 'concept', 'concern', 'concerned', 'concession', 'concluding', 'concrete', 'condemn', 'condemned', 'condemning', 'condemns', 'condems', 'conditioner', 'condom', 'condones', 'coney', 'confederate', 'conference', 'confesses', 'confetti', 'confidence', 'confirm', 'confirmed', 'confirming', 'confirms', 'confused', 'congress', 'congressional', 'congressman', 'congresswoman', 'conquer', 'consent', 'conservative', 'considers', 'consistently', 'console', 'conspiracy', 'constantly', 'constitution', 'constitutional', 'construction', 'constructive', 'consulting', 'contact', 'containing', 'contemplates', 'content', 'contested', 'continually', 'continue', 'continues', 'continuing', 'contract', 'control', 'controller', 'controversy', 'convention', 'convince', 'convinced', 'convoy', 'conway', 'cook', 'cooker', 'cool', 'cooler', 'coolest', 'cooperation', 'cop', 'cope', 'cordless', 'corn', 'cornyn', 'coronavirus', 'corps', 'corpse', 'correctly', 'corrupt', 'cortez', 'cosplay', 'cost', 'couch', 'coughed', 'could', 'count', 'counterfeit', 'counting', 'country', 'county', 'coup', 'couple', 'courageous', 'court', 'courtroom', 'cover', 'coverage', 'covered', 'covid', 'cowboy', 'coworker', 'cozy', 'crack', 'cramer', 'cranston', 'crap', 'crater', 'craves', 'crazy', 'crc', 'cream', 'create', 'created', 'creates', 'creative', 'creatively', 'creator', 'credit', 'crest', 'crew', 'cried', 'crime', 'crisis', 'critical', 'criticism', 'criticize', 'criticized', 'critiquing', 'crouching', 'crowd', 'crowded', 'crowder', 'crushed', 'crushing', 'cruz', 'cry', 'cub', 'cuisinart', 'culture', 'cuomo', 'cup', 'cure', 'curious', 'current', 'curtis', 'custody', 'customer', 'cut', 'cutout', 'cyberpunk', 'cycle', 'dad', 'daddy', 'daft', 'daily', 'dakota', 'damage', 'damn', 'damning', 'damsel', 'dan', 'dance', 'danger', 'dangerous', 'dappling', 'dark', 'darkness', 'darknet', 'data', 'date', 'dating', 'david', 'dawn', 'day', 'de', 'dead', 'deal', 'dear', 'death', 'debate', 'deborah', 'debra', 'debt', 'decade', 'decapitated', 'decent', 'decide', 'decides', 'deciding', 'declare', 'declares', 'decline', 'decommissioned', 'deconstructs', 'decoration', 'dedicated', 'deep', 'deeply', 'default', 'defeat', 'defeating', 'defend', 'defending', 'defends', 'defense', 'defensive', 'deficient', 'definitely', 'definitively', 'deformed', 'del', 'delay', 'delayed', 'delete', 'deli', 'delight', 'demand', 'democracy', 'democrat', 'democratic', 'demographic', 'demon', 'demonized', 'demonstrate', 'demonstrator', 'denier', 'denny', 'denounce', 'department', 'deploy', 'deployed', 'deployment', 'deploys', 'deporting', 'depot', 'depressed', 'depth', 'derailed', 'deranged', 'derived', 'desantis', 'descends', 'desean', 'deserve', 'desk', 'desperate', 'despite', 'destined', 'destitute', 'destroying', 'detainee', 'detainment', 'detective', 'determine', 'determined', 'determines', 'detonate', 'deutsche', 'developer', 'developing', 'developmentally', 'device', 'devin', 'devos', 'devoted', 'devours', 'dexamethasone', 'dhs', 'diana', 'dianne', 'diary', 'dick', 'dictatorship', 'did', 'didn', 'die', 'died', 'different', 'dig', 'dining', 'dinner', 'dipshit', 'direction', 'directly', 'director', 'directs', 'disabled', 'disappear', 'disappearing', 'disappointed', 'disaster', 'discover', 'discovering', 'discovers', 'discreetly', 'discus', 'discussion', 'disease', 'disenfranchised', 'disengage', 'disgrace', 'disguise', 'disguised', 'disgusted', 'dish', 'dishwasher', 'dismisses', 'disney', 'display', 'disregarding', 'distance', 'distanced', 'distancing', 'distant', 'distract', 'distributing', 'district', 'disturbed', 'dive', 'diversity', 'divine', 'diving', 'dnc', 'do', 'doberman', 'doctor', 'documentary', 'doe', 'doesn', 'dog', 'doing', 'dollar', 'dome', 'domestic', 'dominate', 'don', 'donald', 'donate', 'doom', 'door', 'dork', 'dos', 'dose', 'double', 'doughy', 'douglas', 'down', 'downfall', 'downtown', 'downtrodden', 'dozen', 'drag', 'dragged', 'drain', 'drawn', 'dreading', 'dream', 'dressed', 'dressing', 'dribbling', 'drinking', 'drive', 'driver', 'driving', 'drone', 'drop', 'dropping', 'drove', 'drown', 'drug', 'drum', 'drunk', 'dryness', 'drywall', 'dualsense', 'dudley', 'due', 'dueling', 'dumb', 'dump', 'during', 'dutifully', 'dy', 'dying', 'dylan', 'dynamic', 'dysfunction', 'ea', 'each', 'eagle', 'ear', 'eared', 'earlier', 'early', 'earn', 'earning', 'earth', 'easy', 'eat', 'eaten', 'eating', 'eats', 'echoing', 'economic', 'economist', 'economy', 'ed', 'edited', 'edition', 'edmund', 'education', 'eerily', 'effect', 'effigy', 'effort', 'either', 'elden', 'elder', 'elderly', 'elected', 'electing', 'election', 'electoral', 'electric', 'electrostimulation', 'elena', 'elephant', 'elevator', 'elf', 'eliminating', 'ellen', 'elmer', 'eloquent', 'else', 'eludes', 'email', 'embarking', 'embroiled', 'emerged', 'emergency', 'emerges', 'emotionally', 'empire', 'employee', 'emptive', 'encapsulated', 'enclosure', 'encounter', 'encouraged', 'encouraging', 'encrusted', 'end', 'endangered', 'endeavor', 'ending', 'energetic', 'energy', 'enforcement', 'english', 'enjoy', 'enjoyed', 'enjoying', 'enliven', 'enough', 'enraged', 'enter', 'entered', 'enters', 'enthusiastically', 'entire', 'entry', 'environmentally', 'epic', 'epidemic', 'episode', 'epstein', 'equivalency', 'era', 'erase', 'erectile', 'erecting', 'eric', 'erotic', 'escalate', 'escape', 'escaped', 'escort', 'espn', 'esposito', 'establish', 'establishing', 'estate', 'eternal', 'eucharist', 'euthanized', 'evangelical', 'evans', 'evansville', 'eve', 'even', 'ever', 'every', 'everyone', 'everything', 'evidence', 'evil', 'eviscerate', 'exam', 'examining', 'exasperated', 'excavating', 'exceptionalism', 'excited', 'excitedly', 'exciting', 'exclude', 'excluded', 'exclusive', 'exclusively', 'execution', 'executive', 'exemption', 'exhausted', 'exhorts', 'exist', 'existence', 'existentialist', 'existing', 'exit', 'exotic', 'expands', 'expect', 'expected', 'expects', 'experience', 'experiencing', 'experiment', 'expert', 'expires', 'explain', 'explainer', 'explaining', 'explains', 'exploratory', 'explosion', 'explosive', 'expo', 'exposed', 'expression', 'extended', 'extra', 'extremely', 'eye', 'eyebrow', 'eyed', 'face', 'facebook', 'faced', 'facial', 'facility', 'facing', 'fact', 'factory', 'failing', 'fails', 'failure', 'fainting', 'faith', 'fajitas', 'fake', 'falcon', 'falconer', 'fall', 'fallen', 'falling', 'false', 'falsely', 'fame', 'family', 'famous', 'fan', 'far', 'fast', 'father', 'fauci', 'favor', 'favorite', 'fbi', 'fda', 'fear', 'feast', 'feature', 'february', 'fed', 'federal', 'fedex', 'fee', 'feel', 'feeling', 'feige', 'feigning', 'feinstein', 'fellow', 'festering', 'festival', 'fetus', 'feud', 'few', 'fictional', 'field', 'fight', 'fighting', 'figure', 'file', 'filing', 'filled', 'filling', 'film', 'filmmaker', 'filtering', 'filthy', 'final', 'finally', 'financial', 'find', 'finding', 'fingered', 'fingerprint', 'finish', 'finished', 'finishing', 'fire', 'firefighter', 'firework', 'firm', 'first', 'fisher', 'fisting', 'fivethirtyeight', 'fix', 'fixation', 'flag', 'flame', 'flay', 'flees', 'flight', 'flintstone', 'flipping', 'flirty', 'flock', 'floor', 'florida', 'flourish', 'floyd', 'fluid', 'flushing', 'flustered', 'fly', 'flyover', 'focus', 'fold', 'follow', 'follower', 'following', 'food', 'foolhardy', 'foot', 'footage', 'football', 'for', 'force', 'forced', 'forehead', 'foreign', 'forest', 'foretelling', 'forgetting', 'forgot', 'forklift', 'forlornly', 'form', 'formula', 'fortnite', 'forward', 'found', 'foundation', 'founding', 'fourth', 'fox', 'frame', 'franchise', 'francis', 'franklin', 'frantically', 'frat', 'fraud', 'freak', 'frederick', 'free', 'friday', 'fried', 'friedmanite', 'friend', 'friendly', 'friendship', 'frightened', 'from', 'front', 'fruit', 'frustrated', 'fry', 'fuck', 'fucked', 'fucker', 'fucking', 'fulfill', 'fulfilling', 'full', 'fuller', 'fun', 'fund', 'fundamental', 'funding', 'fundraising', 'funeral', 'furious', 'fused', 'future', 'gaetz', 'gallon', 'game', 'gamer', 'gamers', 'gamestop', 'gaming', 'garland', 'gas', 'gase', 'gateway', 'gathering', 'gatorade', 'gay', 'gear', 'gen', 'general', 'genre', 'gentle', 'gentrification', 'geodesic', 'geographic', 'george', 'georgetown', 'georgia', 'german', 'gerrymandering', 'gesture', 'gesturing', 'get', 'getting', 'gettysburg', 'ghibli', 'ghost', 'ghostbuster', 'ghostwritten', 'giancarlo', 'giannis', 'giant', 'gift', 'gilligan', 'gingrich', 'ginsburg', 'girl', 'girlfriend', 'giuliani', 'give', 'given', 'giving', 'glacieria', 'glad', 'glass', 'glimpse', 'glitch', 'global', 'glorifying', 'glorious', 'glue', 'gmail', 'go', 'goal', 'goat', 'god', 'goddamn', 'goff', 'going', 'gold', 'golden', 'gone', 'good', 'goodbye', 'goodfellas', 'google', 'gop', 'got', 'gotrocks', 'gott', 'gotta', 'gotten', 'government', 'governor', 'graciously', 'grad', 'grade', 'graf', 'graham', 'grandfather', 'grandmother', 'granted', 'granting', 'graph', 'grasp', 'gravy', 'grayish', 'great', 'greater', 'greatest', 'greatly', 'green', 'greenberg', 'greene', 'gretchen', 'grief', 'grieving', 'grill', 'grind', 'grip', 'gripped', 'grit', 'grizzled', 'grocery', 'gronk', 'gronkowski', 'groom', 'ground', 'group', 'grow', 'growing', 'gta', 'guacamole', 'guard', 'guardian', 'guess', 'guest', 'guide', 'guideline', 'guilty', 'guitar', 'gun', 'gunpoint', 'guy', 'ha', 'habit', 'habitat', 'habitual', 'hacker', 'had', 'hair', 'haired', 'hairless', 'half', 'halfpipe', 'halfway', 'hall', 'halloween', 'hallucination', 'halt', 'hammurderer', 'hampshire', 'hand', 'handgun', 'handsome', 'hang', 'happen', 'happened', 'happening', 'happens', 'happy', 'harbaugh', 'hard', 'hardcore', 'harder', 'hardest', 'harem', 'harmless', 'harris', 'harry', 'harsh', 'hasn', 'hat', 'hatchet', 'hate', 'haunted', 'have', 'having', 'haw', 'hawk', 'hawley', 'he', 'head', 'headfirst', 'headline', 'headquarters', 'health', 'healthcare', 'healthier', 'healthy', 'heard', 'hearing', 'heart', 'heartbreaking', 'heartbroken', 'heartless', 'heater', 'heavily', 'heeeeeeeeeurgghhhh', 'heimlich', 'helicopter', 'hell', 'help', 'helping', 'hennessy', 'her', 'herbalife', 'here', 'heritage', 'hero', 'heroic', 'heroically', 'herself', 'hexed', 'hick', 'hide', 'high', 'highlight', 'highway', 'hiker', 'hillary', 'him', 'himself', 'hinge', 'hint', 'hire', 'hiring', 'his', 'hispanic', 'hiss', 'historic', 'historical', 'history', 'hit', 'hitler', 'ho', 'hoarding', 'hoax', 'hog', 'hogging', 'hold', 'holding', 'hole', 'holiday', 'hologram', 'home', 'homeland', 'homeless', 'homoerotic', 'homosexual', 'honey', 'honor', 'hoodie', 'hooking', 'hoop', 'hope', 'hopeful', 'hopefully', 'hoping', 'horizon', 'horny', 'horoscope', 'horrified', 'horrifying', 'hose', 'hospital', 'hospitalized', 'host', 'hostage', 'hot', 'hour', 'house', 'how', 'howard', 'huddle', 'huge', 'huh', 'hulu', 'humanity', 'humanoid', 'hundred', 'hunger', 'hungry', 'hunt', 'hurricane', 'hurry', 'hurting', 'husband', 'husk', 'hydraulic', 'hyperbaric', 'hyperinflation', 'hysterectomy', 'ian', 'ice', 'icelandic', 'icu', 'id', 'idaho', 'idea', 'identification', 'identity', 'if', 'ignobly', 'ignoring', 'ii', 'illegitimate', 'illusion', 'image', 'imaginary', 'imagination', 'imbuing', 'immediately', 'immense', 'immigrant', 'immortal', 'impact', 'impeach', 'impeachment', 'implant', 'important', 'impose', 'impressed', 'imprisoned', 'imprisonment', 'improve', 'in', 'inaccurately', 'inaction', 'inane', 'inaugural', 'inauguration', 'incinerated', 'incinerator', 'incite', 'incoherent', 'incompetent', 'incorporate', 'incorrectly', 'incorrectness', 'increase', 'increasingly', 'incredible', 'independent', 'indian', 'indiana', 'indicative', 'indoor', 'induced', 'industry', 'ineffectual', 'infected', 'infertile', 'infinite', 'inflatable', 'inflation', 'influencer', 'inform', 'information', 'informed', 'infowars', 'infrastructure', 'infuriated', 'initiative', 'inject', 'injured', 'inmate', 'innocent', 'insane', 'insanity', 'inside', 'insider', 'insisting', 'insists', 'install', 'instead', 'instinct', 'instinctively', 'institution', 'instruction', 'insurance', 'insurrectionist', 'intelligence', 'intended', 'intent', 'interactive', 'intercourse', 'interdimensional', 'interest', 'interested', 'interfere', 'intermission', 'international', 'internet', 'interrupted', 'interrupting', 'interruption', 'intersection', 'interview', 'interviewing', 'intimidation', 'into', 'introduces', 'introducing', 'introduction', 'invented', 'investigates', 'investigating', 'investigation', 'involved', 'involves', 'io', 'iphone', 'ipswich', 'iraq', 'iron', 'ironclad', 'irresistible', 'irs', 'is', 'isi', 'isn', 'israel', 'issue', 'ist', 'it', 'italian', 'jacketers', 'jackson', 'jacksonville', 'jaguar', 'jail', 'james', 'janet', 'january', 'japanese', 'jared', 'jason', 'jasonator', 'jaywalker', 'jazz', 'jealousy', 'jean', 'jeez', 'jeff', 'jeffrey', 'jenner', 'jeopardy', 'jerry', 'jersey', 'jesus', 'jet', 'jew', 'jewish', 'jfk', 'jigsaw', 'jim', 'jimmy', 'jinping', 'joakim', 'job', 'joe', 'john', 'jolt', 'jones', 'josh', 'journalism', 'journalist', 'journey', 'jpmorgan', 'jr', 'jubilant', 'judge', 'july', 'jumperoo', 'jumping', 'jurisdiction', 'just', 'justice', 'justify', 'justin', 'kafka', 'kagan', 'kamala', 'kansa', 'kanye', 'karaoke', 'keep', 'keeping', 'kellyanne', 'kemp', 'kennedy', 'kenosha', 'kevin', 'key', 'keynesian', 'keystone', 'kick', 'kickline', 'kid', 'kidnapped', 'kill', 'killed', 'killer', 'kim', 'kind', 'kinda', 'king', 'kingdom', 'kit', 'kite', 'knew', 'knife', 'knighthood', 'knock', 'knocking', 'knockout', 'know', 'knowing', 'knowledge', 'known', 'kris', 'kristen', 'kyle', 'lab', 'labeouf', 'labor', 'lack', 'lackluster', 'ladder', 'lady', 'lagoon', 'laika', 'lambasts', 'lame', 'land', 'landscaping', 'lap', 'large', 'larger', 'larry', 'lasagna', 'last', 'late', 'lately', 'latest', 'latino', 'laugh', 'launch', 'laundry', 'laura', 'lavish', 'law', 'lawsuit', 'lawyer', 'le', 'lead', 'leader', 'leading', 'leaf', 'league', 'leak', 'leaked', 'learn', 'learned', 'learnin', 'learning', 'least', 'leave', 'leaving', 'lebron', 'left', 'legacy', 'legal', 'legendary', 'legislator', 'legitimate', 'legroom', 'lending', 'lennon', 'leslie', 'let', 'letdown', 'lethal', 'letting', 'level', 'leverage', 'lewis', 'libel', 'liberal', 'libertarian', 'library', 'lie', 'life', 'lifeless', 'lifelong', 'lifestyle', 'lifetime', 'light', 'lighting', 'lightweight', 'likable', 'like', 'likeable', 'liked', 'likely', 'limbaugh', 'limit', 'limited', 'limiting', 'lincoln', 'lindsey', 'line', 'lined', 'link', 'linked', 'lip', 'lipid', 'lipstick', 'list', 'listening', 'listens', 'listing', 'literally', 'little', 'live', 'livetweet', 'living', 'll', 'loading', 'loan', 'loathing', 'lobbyist', 'lobotomy', 'lobster', 'local', 'location', 'lock', 'lockdown', 'locked', 'locker', 'locust', 'lombardi', 'lonely', 'long', 'longer', 'look', 'looking', 'loon', 'loop', 'loophole', 'looted', 'lore', 'lose', 'loser', 'loses', 'losing', 'loss', 'lost', 'lot', 'loudspeaker', 'love', 'loved', 'low', 'lowe', 'lower', 'lowered', 'lowering', 'lt', 'luigi', 'lunch', 'lung', 'lyft', 'lying', 'lynn', 'mac', 'machine', 'mad', 'made', 'magnetism', 'mail', 'mailbox', 'main', 'maine', 'mainstream', 'maintain', 'maintains', 'major', 'majority', 'make', 'makeover', 'making', 'malaysian', 'male', 'mall', 'man', 'manchester', 'manchin', 'mandate', 'mandating', 'mandatory', 'maneuver', 'manfred', 'manslaughter', 'manson', 'manual', 'map', 'march', 'margin', 'mario', 'marjorie', 'mark', 'market', 'marketing', 'markle', 'marriage', 'marries', 'marry', 'martin', 'mask', 'masquerade', 'massage', 'massive', 'master', 'masturbating', 'match', 'mate', 'maternal', 'math', 'matt', 'matter', 'maximum', 'may', 'mayfield', 'mayo', 'mayor', 'mayoral', 'mccarthy', 'mcconnell', 'mcdonald', 'mcgrath', 'mckellen', 'me', 'meadow', 'mealiest', 'mean', 'measles', 'measure', 'medical', 'meditation', 'medium', 'meet', 'meeting', 'meghan', 'mein', 'melania', 'melon', 'melting', 'member', 'membership', 'memorial', 'memory', 'mental', 'mentally', 'menu', 'merck', 'mercy', 'merrick', 'mesopotamians', 'message', 'messing', 'metal', 'metaphorically', 'method', 'meti', 'mic', 'michael', 'michelle', 'michigan', 'mickey', 'microdosing', 'microphone', 'microsoft', 'middle', 'midnight', 'miffed', 'might', 'migrant', 'mike', 'mile', 'military', 'militia', 'mill', 'million', 'mind', 'minimum', 'minivan', 'minneapolis', 'minority', 'mint', 'minute', 'mirror', 'miserable', 'misinformation', 'miss', 'missing', 'mission', 'mistaken', 'mistress', 'mitch', 'mitt', 'miyamoto', 'mlb', 'mnuchin', 'mob', 'modeled', 'moderator', 'moisturizer', 'molesting', 'mom', 'moment', 'money', 'monica', 'monk', 'monstrosity', 'monte', 'month', 'mookie', 'moon', 'morbidly', 'more', 'morning', 'most', 'mostly', 'mother', 'motherhood', 'mountain', 'mouse', 'mouth', 'move', 'mover', 'moving', 'mr', 'mrna', 'mtv', 'much', 'muffin', 'muhammad', 'mulan', 'multiple', 'murder', 'murdered', 'murmur', 'museum', 'must', 'mustachioed', 'muster', 'mute', 'my', 'myanmar', 'mysterious', 'naacp', 'nadler', 'name', 'named', 'nancy', 'nanoparticle', 'napkin', 'narrative', 'narrow', 'narrowly', 'nasa', 'nate', 'nation', 'national', 'nationalist', 'nationwide', 'natural', 'nature', 'navigate', 'nazi', 'nba', 'ncaa', 'ndamukong', 'near', 'nearby', 'necessity', 'need', 'needlessly', 'neighbor', 'neighborhood', 'neo', 'nerve', 'nervous', 'netflix', 'netless', 'network', 'never', 'new', 'newborn', 'newly', 'news', 'newsmax', 'newt', 'newton', 'next', 'nfl', 'nice', 'nick', 'nickname', 'nig', 'night', 'nightmare', 'nike', 'nine', 'nintendo', 'no', 'noah', 'nobel', 'nocturnal', 'nolan', 'nominee', 'normal', 'north', 'northwestern', 'nose', 'nostalgia', 'not', 'note', 'notebook', 'nothing', 'notice', 'noticing', 'notified', 'notoriety', 'nov', 'novelty', 'november', 'now', 'nra', 'number', 'nunes', 'nursing', 'nyc', 'obama', 'obese', 'obligation', 'obnoxious', 'obscure', 'obsessed', 'obtained', 'obvious', 'ocarina', 'ocasio', 'october', 'oculus', 'odell', 'of', 'off', 'offender', 'offer', 'office', 'officer', 'official', 'officially', 'often', 'oge', 'ogn', 'oh', 'ohio', 'oil', 'okay', 'old', 'oldest', 'olive', 'olympics', 'ominous', 'on', 'once', 'one', 'onion', 'online', 'onlooker', 'only', 'onto', 'op', 'open', 'opened', 'opener', 'opening', 'operation', 'opinion', 'opportunity', 'opposition', 'oppressed', 'opting', 'or', 'orbit', 'orca', 'order', 'oreal', 'oregon', 'organ', 'oriole', 'ornithologist', 'osha', 'oswalt', 'other', 'others', 'our', 'ours', 'out', 'outbreak', 'outcome', 'outcry', 'outlining', 'outraged', 'outside', 'outsourcing', 'outta', 'oval', 'over', 'overdraft', 'overhead', 'overjoyed', 'overlooking', 'overreact', 'overrule', 'overrun', 'overseas', 'oversized', 'overtake', 'overthrow', 'overtime', 'overtone', 'overturn', 'overweight', 'overwhelmed', 'owl', 'own', 'owner', 'owns', 'ozark', 'pack', 'packaging', 'packed', 'pad', 'page', 'paintbrush', 'painted', 'painting', 'pair', 'pakistan', 'palace', 'paleontologist', 'palest', 'pandemic', 'pandemonium', 'panicked', 'panicking', 'pantsless', 'paparazzo', 'paper', 'paramedic', 'paranoid', 'pardoned', 'parent', 'park', 'parliamentarian', 'part', 'partisan', 'partner', 'party', 'pass', 'passed', 'passenger', 'passion', 'passionate', 'past', 'pat', 'patient', 'patiently', 'patriot', 'patriotic', 'patrol', 'patton', 'paul', 'paved', 'paw', 'pawn', 'pay', 'paying', 'pc', 'peace', 'peaceful', 'peacekeeping', 'peach', 'pedophile', 'peel', 'peering', 'pelosi', 'pen', 'penis', 'pennsylvania', 'penny', 'people', 'pepper', 'per', 'percent', 'perez', 'perfect', 'perfectly', 'peril', 'permission', 'perry', 'person', 'personal', 'personally', 'persuading', 'pest', 'pet', 'pete', 'pettus', 'pfizer', 'phase', 'phelps', 'phillies', 'philosophy', 'phone', 'pica', 'pick', 'picture', 'piece', 'pierre', 'pikmin', 'pile', 'pin', 'pine', 'pink', 'pint', 'pipe', 'pipeline', 'piss', 'pissed', 'pissing', 'pitbull', 'pitch', 'pivot', 'pivotal', 'place', 'placed', 'placerville', 'plagiarized', 'plan', 'plane', 'planet', 'plant', 'plaque', 'plastic', 'platform', 'play', 'playbook', 'played', 'player', 'playing', 'playstation', 'plea', 'plead', 'pleased', 'pleasure', 'pledge', 'pledging', 'plexiglas', 'plot', 'plotting', 'plugged', 'plumber', 'poacher', 'pod', 'podcast', 'point', 'pointedly', 'poised', 'poisoning', 'poked', 'polarizing', 'police', 'policeman', 'policy', 'politely', 'political', 'politics', 'poll', 'polling', 'polygon', 'pompeo', 'poncho', 'pool', 'poor', 'pop', 'pope', 'populace', 'popular', 'pork', 'porn', 'pornhub', 'pornography', 'portion', 'portland', 'portrait', 'position', 'positive', 'possession', 'possible', 'post', 'posted', 'poster', 'postmaster', 'potentially', 'potted', 'pours', 'powell', 'power', 'powerful', 'ppp', 'practice', 'prague', 'praise', 'praying', 'pre', 'predict', 'predominantly', 'preemptively', 'pregnancy', 'pregnant', 'prematurely', 'premium', 'prep', 'preparation', 'prepared', 'prepares', 'preparing', 'preplanned', 'prequel', 'preschool', 'present', 'presidency', 'president', 'presidential', 'press', 'pressure', 'pretend', 'pretending', 'pretty', 'prevent', 'price', 'pride', 'prime', 'primetime', 'primo', 'prince', 'printer', 'printing', 'prior', 'priority', 'prison', 'prissy', 'pritzker', 'private', 'privilege', 'prize', 'pro', 'probably', 'problem', 'process', 'produce', 'producer', 'product', 'production', 'prof', 'profile', 'profilers', 'progressive', 'project', 'projekt', 'promise', 'promising', 'promoting', 'propaganda', 'propeller', 'property', 'prophet', 'proportion', 'proposal', 'prosecutor', 'prospect', 'prostitute', 'protect', 'protecting', 'protein', 'protest', 'protester', 'protestors', 'proud', 'prove', 'providing', 'proving', 'pseudonym', 'psychic', 'psychological', 'psychologist', 'psychotic', 'public', 'published', 'publishes', 'puerto', 'pull', 'pulled', 'pulling', 'pumpkin', 'pundit', 'punishment', 'punk', 'purchase', 'purchasing', 'pure', 'pursue', 'push', 'pushing', 'put', 'putting', 'puzzle', 'qaeda', 'qanon', 'quaint', 'quality', 'quantity', 'quarantine', 'queen', 'question', 'quick', 'quickly', 'quilt', 'quota', 'quote', 'rabbit', 'race', 'racial', 'racist', 'radiator', 'radical', 'rage', 'ragging', 'rail', 'railroad', 'rally', 'ram', 'ramming', 'rampage', 'randi', 'random', 'range', 'ranting', 'rapidly', 'rapist', 'rare', 'rat', 'rate', 'rather', 'rating', 'raw', 'ray', 'rayman', 'rd', 're', 'reach', 'reaction', 'read', 'reader', 'reading', 'ready', 'reaganomics', 'real', 'realignment', 'reality', 'realizes', 'realizing', 'really', 'realm', 'reassures', 'rebirth', 'rebuild', 'receive', 'received', 'receiving', 'recharged', 'recipe', 'reckon', 'reclassifies', 'recognizes', 'recommend', 'recommends', 'record', 'red', 'redacted', 'redditors', 'redskin', 'reduced', 'reduction', 'reed', 'reel', 'reenactment', 'referee', 'referring', 'reflection', 'reflective', 'reflexively', 'refuse', 'refusing', 'regardless', 'register', 'registry', 'regretting', 'regular', 'regularly', 'regurgitating', 'rehearsing', 'reignite', 'reinstitute', 'relationship', 'relative', 'release', 'released', 'relieved', 'reluctant', 'reluctantly', 'remainder', 'remaining', 'remake', 'remember', 'remembers', 'remind', 'reminder', 'reminding', 'reminds', 'remote', 'remotely', 'remove', 'removing', 'renamed', 'renewed', 'repeatedly', 'replace', 'replaces', 'report', 'reported', 'reporter', 'reporting', 'repost', 'representative', 'reprimanded', 'reproductive', 'republican', 'request', 'require', 'requiring', 'researcher', 'reserve', 'residence', 'resident', 'respect', 'respectful', 'respecting', 'responds', 'response', 'responsible', 'rest', 'restaurant', 'restriction', 'result', 'resurgence', 'retirement', 'retires', 'retrieving', 'return', 'returning', 'retweets', 'reunites', 'revamped', 'reveal', 'revealed', 'revealing', 'reveals', 'reverse', 'reversed', 'review', 'reviewing', 'revise', 'revitalizing', 'reward', 'rican', 'rice', 'rich', 'richard', 'ride', 'rifle', 'right', 'ring', 'riot', 'rioter', 'rioting', 'rip', 'ripped', 'ripping', 'rising', 'risk', 'risky', 'rittenhouse', 'ritualistic', 'rnc', 'rob', 'robert', 'robin', 'robinhood', 'robot', 'robotic', 'rochester', 'rock', 'rogan', 'roll', 'rollercoaster', 'rolling', 'romney', 'ron', 'roof', 'room', 'rooney', 'root', 'rope', 'rotted', 'rotting', 'rough', 'roughly', 'round', 'route', 'routine', 'rowling', 'royale', 'rudy', 'rueful', 'rug', 'ruin', 'ruined', 'rule', 'ruled', 'rumor', 'run', 'runner', 'running', 'rush', 'rushing', 'russian', 'ruth', 'ryan', 'saban', 'sack', 'saddened', 'sadly', 'safe', 'said', 'salute', 'sambuca', 'same', 'sample', 'sampler', 'samurai', 'sand', 'sandwich', 'sanitizing', 'santa', 'sarah', 'satisfying', 'save', 'saving', 'saw', 'say', 'scale', 'scanned', 'scene', 'scheduled', 'schizophrenic', 'school', 'schoolchildren', 'schumer', 'scientist', 'scoffing', 'scout', 'scramble', 'scrambling', 'scream', 'screen', 'screening', 'scroll', 'scrolling', 'seamstress', 'search', 'season', 'seat', 'seaworld', 'second', 'secret', 'secretary', 'secretly', 'section', 'security', 'seduces', 'see', 'seeing', 'seeking', 'seemed', 'seen', 'seething', 'seinfeld', 'seize', 'seizes', 'seizure', 'self', 'selfish', 'sell', 'selling', 'senate', 'senator', 'send', 'sending', 'sends', 'sense', 'sensitivity', 'separate', 'september', 'serbia', 'serial', 'series', 'seriously', 'serve', 'served', 'service', 'session', 'set', 'settle', 'settlement', 'seven', 'several', 'severely', 'sex', 'sexist', 'sexless', 'sexual', 'sexually', 'sexy', 'sh', 'shackled', 'shaking', 'shape', 'shaped', 'share', 'shaved', 'she', 'sheldon', 'shelter', 'shepherd', 'shia', 'shift', 'shigeru', 'shit', 'shithead', 'shithole', 'shocked', 'shocking', 'shoo', 'shoot', 'shooter', 'shooting', 'shortlist', 'should', 'shout', 'shouting', 'show', 'showed', 'shrieking', 'shriveled', 'shrub', 'shut', 'shutdown', 'shuts', 'shutter', 'shy', 'sick', 'side', 'sideline', 'sidewalk', 'sidney', 'sight', 'sign', 'signal', 'silencing', 'silent', 'silently', 'silicon', 'silver', 'simmons', 'simple', 'sims', 'simulator', 'simultaneous', 'sin', 'since', 'single', 'sit', 'sitcom', 'site', 'sitting', 'situation', 'sized', 'skater', 'skating', 'skeleton', 'skill', 'skim', 'skin', 'skull', 'slam', 'slamming', 'slaughter', 'sled', 'sleep', 'slept', 'slew', 'slice', 'slim', 'slot', 'sloughing', 'slow', 'slowly', 'slur', 'small', 'smartest', 'smash', 'smell', 'smoke', 'smoking', 'smoldering', 'smoother', 'snake', 'snatched', 'sneaker', 'sniffing', 'snow', 'snyder', 'so', 'soaked', 'social', 'socialism', 'socially', 'society', 'sociologist', 'soft', 'soften', 'soldier', 'sole', 'solid', 'solo', 'solution', 'solve', 'some', 'somehow', 'someone', 'something', 'sometimes', 'somewhat', 'son', 'song', 'sonia', 'sony', 'soon', 'sorry', 'sotomayor', 'soul', 'sourdough', 'soured', 'south', 'soybean', 'space', 'spain', 'spanish', 'speak', 'speaker', 'speaking', 'spear', 'special', 'specially', 'specified', 'spectral', 'speculate', 'speech', 'speed', 'spend', 'spending', 'spends', 'spent', 'sphere', 'spice', 'spike', 'spill', 'spin', 'spinoff', 'spiraling', 'spoke', 'sport', 'spot', 'spotify', 'spotting', 'spouse', 'spray', 'sprayed', 'spread', 'spreading', 'spring', 'sprite', 'spy', 'spying', 'squander', 'squashing', 'stabbing', 'stadium', 'staff', 'stage', 'stahl', 'stalking', 'stand', 'star', 'stare', 'starry', 'start', 'started', 'starter', 'starting', 'startup', 'state', 'station', 'statue', 'status', 'stay', 'staying', 'steak', 'stealth', 'steelers', 'stem', 'step', 'stephen', 'stepmother', 'stepping', 'stepson', 'sterilization', 'steve', 'stick', 'still', 'stillborn', 'stimulus', 'stir', 'stirring', 'stock', 'stocking', 'stokes', 'stone', 'stop', 'stopped', 'stopping', 'storage', 'store', 'storm', 'story', 'storyline', 'stove', 'strahan', 'straight', 'straitjacket', 'strangler', 'strapping', 'strategist', 'stray', 'streaking', 'stream', 'streaming', 'street', 'strength', 'stress', 'stressful', 'strike', 'string', 'strip', 'strobe', 'strong', 'struggle', 'struggling', 'stuck', 'student', 'studio', 'study', 'studying', 'stuffed', 'stumbling', 'stump', 'stunned', 'stunner', 'stuns', 'stupid', 'subscriber', 'suburb', 'success', 'successfully', 'succumbing', 'such', 'suck', 'sucked', 'sucking', 'suddenly', 'sue', 'suffer', 'suggest', 'suggesting', 'suggests', 'suh', 'suicide', 'summer', 'sun', 'sunday', 'sunglass', 'sunlight', 'superhero', 'superspreader', 'supply', 'support', 'supporter', 'supporting', 'supposed', 'supremacist', 'supreme', 'sure', 'surface', 'surge', 'surprise', 'surprisingly', 'surveilling', 'survives', 'suspends', 'suv', 'sweat', 'sweating', 'sweeping', 'sweepstakes', 'swift', 'swing', 'switch', 'switching', 'sworn', 'symbol', 'syrian', 'syringe', 'system', 'table', 'taco', 'tailgating', 'take', 'taken', 'takeout', 'taker', 'taking', 'tale', 'talent', 'taliban', 'talk', 'talking', 'tall', 'tampa', 'tank', 'tape', 'tarantula', 'taste', 'tastefully', 'taunt', 'tax', 'taylor', 'teabagging', 'teach', 'teacher', 'team', 'tear', 'tearful', 'teasdale', 'ted', 'teen', 'teenager', 'teeth', 'telepathic', 'tell', 'telling', 'temper', 'temple', 'tendril', 'tenet', 'term', 'terrible', 'terrifying', 'terrorist', 'terry', 'test', 'testament', 'texas', 'text', 'textbook', 'texting', 'th', 'than', 'thank', 'thankful', 'thankfully', 'thanksgiving', 'that', 'the', 'theatrics', 'their', 'them', 'theme', 'themed', 'themself', 'themselves', 'then', 'theonion', 'theorist', 'therapist', 'there', 'these', 'they', 'thigh', 'thin', 'thing', 'think', 'thinking', 'this', 'thomas', 'those', 'though', 'thought', 'thousand', 'thread', 'threaten', 'threatening', 'threatens', 'three', 'thrill', 'thrilled', 'throat', 'through', 'throughout', 'throw', 'throwback', 'thrown', 'ticker', 'ticket', 'tiffany', 'tiger', 'tiktok', 'tim', 'time', 'timeline', 'tiny', 'tip', 'tired', 'tirelessly', 'tissue', 'title', 'to', 'toad', 'today', 'todd', 'toddler', 'toe', 'together', 'toilet', 'told', 'tom', 'tomato', 'tomb', 'tomsk', 'tony', 'too', 'toomey', 'toon', 'top', 'topical', 'topless', 'torn', 'tossed', 'total', 'totally', 'touch', 'touchdown', 'tour', 'tourism', 'toward', 'tower', 'town', 'toxic', 'toy', 'tracer', 'track', 'tracked', 'tracking', 'tradition', 'trafficker', 'trail', 'trailer', 'train', 'trained', 'training', 'transfer', 'transfusion', 'transition', 'transmission', 'transportive', 'trap', 'trapped', 'trauma', 'travel', 'traveled', 'traverse', 'treasury', 'treat', 'treatment', 'trebek', 'tree', 'trend', 'trepanation', 'tribute', 'trick', 'trickle', 'tried', 'trigger', 'trillion', 'trip', 'troop', 'trophy', 'troubled', 'trubisky', 'truck', 'trudeau', 'true', 'truly', 'trump', 'trust', 'truther', 'try', 'trying', 'tsushima', 'tucker', 'tuesday', 'turkey', 'turmoil', 'turn', 'turnout', 'tusk', 'tutorial', 'tv', 'tweety', 'twerp', 'twitter', 'two', 'tycoon', 'tying', 'tyler', 'typing', 'uber', 'ultra', 'unable', 'unafraid', 'unarmed', 'unbalanced', 'unbearable', 'unboxing', 'uncensored', 'unconstitutional', 'uncovers', 'undecided', 'under', 'underachieving', 'undercover', 'undercut', 'underground', 'undermine', 'underperforming', 'understand', 'understanding', 'understands', 'undertone', 'underwear', 'undiagnosed', 'undignified', 'unemployment', 'unfair', 'unfairly', 'unfold', 'unhealthy', 'union', 'united', 'uniting', 'universal', 'university', 'unknown', 'unleashing', 'unless', 'unlock', 'unmarked', 'unnerved', 'unprepared', 'unregistered', 'unrelated', 'unreleased', 'unsafe', 'unsettling', 'unsupervised', 'unsure', 'unsynchronized', 'until', 'unveil', 'unveils', 'up', 'upcharge', 'upcoming', 'updating', 'upgraded', 'upholding', 'upon', 'upper', 'upset', 'upstaging', 'urban', 'urge', 'usa', 'use', 'used', 'user', 'usher', 'using', 'usps', 'usual', 'vacation', 'vaccination', 'vaccine', 'vague', 'vaguely', 'valley', 'value', 'vampire', 'van', 'vanderbilt', 'vaporizing', 'vatican', 've', 'vegetarian', 'vengeance', 'venial', 'ventilator', 'venture', 'venus', 'verbally', 'verify', 'version', 'very', 'vest', 'vibrant', 'victim', 'victoria', 'victory', 'video', 'view', 'viewer', 'viewing', 'vigorously', 'villager', 'villain', 'vilsack', 'vince', 'violence', 'violent', 'violently', 'virginian', 'virile', 'virtual', 'virus', 'viscera', 'vision', 'visit', 'visiting', 'visitor', 'visual', 'voice', 'volunteer', 'vortex', 'vote', 'voted', 'voter', 'voting', 'vow', 'vp', 'vr', 'wa', 'wadded', 'wage', 'wait', 'waited', 'waiter', 'waiting', 'waitress', 'wake', 'walking', 'wall', 'wallace', 'wandering', 'wanders', 'want', 'war', 'warm', 'warn', 'warns', 'warp', 'washington', 'wasn', 'waste', 'watch', 'watchdog', 'watched', 'watcher', 'watching', 'water', 'waterboarded', 'waterfall', 'wave', 'way', 'we', 'weak', 'wealth', 'wealthier', 'wealthy', 'weapon', 'wear', 'wearing', 'weather', 'wedding', 'week', 'weekday', 'weekend', 'weeklong', 'weird', 'weirdo', 'welfare', 'welker', 'well', 'went', 'were', 'west', 'western', 'whale', 'what', 'whatever', 'wheel', 'wheeler', 'wheeze', 'when', 'whenever', 'where', 'whether', 'which', 'while', 'whisper', 'whispered', 'white', 'whitmer', 'whittle', 'who', 'whoever', 'whole', 'wholesale', 'whoopsies', 'whose', 'why', 'widespread', 'wielding', 'wife', 'wild', 'wildest', 'wildfire', 'wildly', 'will', 'willing', 'willingness', 'willow', 'win', 'wind', 'window', 'windshield', 'wing', 'winner', 'wipe', 'wisconsin', 'wish', 'wishing', 'witch', 'with', 'withheld', 'without', 'withstand', 'woba', 'wolf', 'woman', 'won', 'wonder', 'wondering', 'wood', 'woodward', 'work', 'worked', 'worker', 'working', 'world', 'worldwide', 'worn', 'worried', 'worry', 'worrying', 'worth', 'worthless', 'would', 'wouldn', 'wrap', 'wrapped', 'wrigley', 'write', 'writer', 'wrong', 'wrongfully', 'xbox', 'xi', 'yang', 'yankee', 'yeah', 'year', 'yee', 'yell', 'yellen', 'yet', 'yield', 'yikes', 'yoga', 'york', 'yoshi', 'you', 'young', 'youngest', 'your', 'yours', 'youth', 'youtube', 'yukon', 'zealand', 'zelda', 'zendaya', 'zero', 'ziprecruiter', 'zone', 'zoologist', 'zoom']\n"
     ]
    }
   ],
   "source": [
    "vocab = cvec.get_feature_names()\n",
    "print(vocab)"
   ]
  },
  {
   "cell_type": "markdown",
   "metadata": {},
   "source": [
    "### CountVectorizer: Frequently Used Words"
   ]
  },
  {
   "cell_type": "code",
   "execution_count": 28,
   "metadata": {},
   "outputs": [],
   "source": [
    "def term_counts(df, stop_list = None,n_gram = (1,1)):\n",
    "    \n",
    "    # Count Vectorize\n",
    "    cvec = CountVectorizer(stop_words = stop_list,ngram_range= n_gram)\n",
    "    title_cvec = pd.DataFrame(cvec.fit_transform(df['title']).toarray(),\n",
    "                          columns = cvec.get_feature_names())\n",
    "\n",
    "    # See word counts\n",
    "    counts = title_cvec.sum().sort_values(0, ascending=False)\n",
    "    \n",
    "    return counts"
   ]
  },
  {
   "cell_type": "code",
   "execution_count": 32,
   "metadata": {},
   "outputs": [
    {
     "data": {
      "text/plain": [
       "Text(0, 0.5, 'Words')"
      ]
     },
     "execution_count": 32,
     "metadata": {},
     "output_type": "execute_result"
    },
    {
     "data": {
      "image/png": "[encoded data removed]",
      "text/plain": [
       "<Figure size 1440x864 with 1 Axes>"
      ]
     },
     "metadata": {
      "needs_background": "light"
     },
     "output_type": "display_data"
    }
   ],
   "source": [
    "onion_bigram_counts = pd.DataFrame(term_counts(df = df_onion,n_gram=(2,2),stop_list = 'english'), columns=[\"count\"])\n",
    "\n",
    "onion_top_bigrams = onion_bigram_counts.head(15).sort_values(by = 'count',ascending = True)\n",
    "onion_top_bigrams.plot(kind = 'barh',figsize=(20,12),fontsize=20)\n",
    "plt.title('Frequently Occuring Bigrams in r/TheOnion',size = 25)\n",
    "plt.xlabel('Counts', size = 20)\n",
    "plt.ylabel('Words', size = 20)\n",
    "#plt.figtext(.4,.4,f'Number of Unique Bigrams: {len(onion_bigram_counts)}')"
   ]
  },
  {
   "cell_type": "markdown",
   "metadata": {},
   "source": [
    "#### TheOnion : no stop words"
   ]
  },
  {
   "cell_type": "code",
   "execution_count": 33,
   "metadata": {},
   "outputs": [
    {
     "name": "stdout",
     "output_type": "stream",
     "text": [
      "Number of Unique Words: 4307\n"
     ]
    },
    {
     "data": {
      "text/plain": [
       "to          450\n",
       "of          317\n",
       "the         174\n",
       "in          162\n",
       "for         149\n",
       "trump       104\n",
       "on           93\n",
       "after        87\n",
       "with         83\n",
       "by           70\n",
       "from         68\n",
       "and          67\n",
       "it           56\n",
       "man          55\n",
       "as           54\n",
       "new          51\n",
       "be           49\n",
       "that         47\n",
       "into         46\n",
       "out          45\n",
       "he           45\n",
       "biden        44\n",
       "at           43\n",
       "you          42\n",
       "they         41\n",
       "nation       39\n",
       "up           37\n",
       "about        36\n",
       "all          36\n",
       "just         32\n",
       "not          32\n",
       "election     32\n",
       "is           31\n",
       "can          31\n",
       "down         31\n",
       "this         30\n",
       "will         28\n",
       "white        27\n",
       "who          27\n",
       "says         27\n",
       "onion        26\n",
       "dtype: int64"
      ]
     },
     "execution_count": 33,
     "metadata": {},
     "output_type": "execute_result"
    }
   ],
   "source": [
    "cvec = CountVectorizer()\n",
    "# Fit our CountVectorizer on the training data and transform training data.\n",
    "onion_cvec = pd.DataFrame(cvec.fit_transform(df_onion['title']).todense(),\n",
    "                          columns = cvec.get_feature_names())\n",
    "print(f'Number of Unique Words: {onion_cvec.shape[1]}')\n",
    "onion_cvec.sum()[onion_cvec.sum() >= 25].sort_values(ascending = False)"
   ]
  },
  {
   "cell_type": "markdown",
   "metadata": {},
   "source": [
    "#### TheOnion : bigrams, no stop words"
   ]
  },
  {
   "cell_type": "code",
   "execution_count": 34,
   "metadata": {},
   "outputs": [
    {
     "name": "stdout",
     "output_type": "stream",
     "text": [
      "Number of Unique Bigrams: 9329\n"
     ]
    },
    {
     "data": {
      "text/plain": [
       "the onion      21\n",
       "to be          19\n",
       "of the         17\n",
       "white house    14\n",
       "out of         12\n",
       "enough to      10\n",
       "dtype: int64"
      ]
     },
     "execution_count": 34,
     "metadata": {},
     "output_type": "execute_result"
    }
   ],
   "source": [
    "cvec = CountVectorizer(ngram_range=(2,2))\n",
    "# Fit our CountVectorizer on the training data and transform training data.\n",
    "onion_bigram_cvec = pd.DataFrame(cvec.fit_transform(df_onion['title']).todense(),\n",
    "                          columns = cvec.get_feature_names())\n",
    "print(f'Number of Unique Bigrams: {onion_bigram_cvec.shape[1]}')\n",
    "onion_bigram_cvec.sum()[onion_bigram_cvec.sum()>=10].sort_values(ascending = False)"
   ]
  },
  {
   "cell_type": "code",
   "execution_count": 35,
   "metadata": {},
   "outputs": [
    {
     "data": {
      "text/plain": [
       "<AxesSubplot:>"
      ]
     },
     "execution_count": 35,
     "metadata": {},
     "output_type": "execute_result"
    },
    {
     "data": {
      "image/png": "[encoded data removed]",
      "text/plain": [
       "<Figure size 1008x720 with 1 Axes>"
      ]
     },
     "metadata": {
      "needs_background": "light"
     },
     "output_type": "display_data"
    }
   ],
   "source": [
    "onion_bigram_cvec_top = onion_bigram_cvec.sum().sort_values(ascending = True).tail(25)\n",
    "onion_bigram_cvec_top.plot(kind = 'barh',figsize=(14,10))"
   ]
  },
  {
   "cell_type": "markdown",
   "metadata": {},
   "source": [
    "#### TheOnion : stop_words = 'english'"
   ]
  },
  {
   "cell_type": "code",
   "execution_count": 36,
   "metadata": {},
   "outputs": [
    {
     "name": "stdout",
     "output_type": "stream",
     "text": [
      "Number of Unique Words: 4099\n"
     ]
    },
    {
     "data": {
      "text/plain": [
       "trump          104\n",
       "man             55\n",
       "new             51\n",
       "biden           44\n",
       "nation          39\n",
       "just            32\n",
       "election        32\n",
       "white           27\n",
       "says            27\n",
       "onion           26\n",
       "like            23\n",
       "house           23\n",
       "woman           22\n",
       "covid           21\n",
       "coronavirus     21\n",
       "dtype: int64"
      ]
     },
     "execution_count": 36,
     "metadata": {},
     "output_type": "execute_result"
    }
   ],
   "source": [
    "cvec = CountVectorizer(stop_words='english')\n",
    "# Fit our CountVectorizer on the training data and transform training data.\n",
    "onion_cvec_stop = pd.DataFrame(cvec.fit_transform(df_onion['title']).todense(),\n",
    "                          columns = cvec.get_feature_names())\n",
    "print(f'Number of Unique Words: {onion_cvec_stop.shape[1]}')\n",
    "onion_cvec_stop.sum()[onion_cvec_stop.sum() >= 20].sort_values(ascending = False)"
   ]
  },
  {
   "cell_type": "code",
   "execution_count": 37,
   "metadata": {},
   "outputs": [
    {
     "data": {
      "image/png": "[encoded data removed]",
      "text/plain": [
       "<Figure size 1440x864 with 1 Axes>"
      ]
     },
     "metadata": {
      "needs_background": "light"
     },
     "output_type": "display_data"
    }
   ],
   "source": [
    "onion_cvec_stop_top = onion_cvec_stop.sum().sort_values(ascending = True).tail(15)\n",
    "onion_cvec_stop_top.plot(kind = 'barh',figsize=(20,12),fontsize=15)\n",
    "plt.title('Frequently Occuring Words in r/TheOnion',size = 20)\n",
    "plt.xlabel('Counts', size = 20)\n",
    "plt.ylabel('Words', size = 20);"
   ]
  },
  {
   "cell_type": "markdown",
   "metadata": {},
   "source": [
    "#### TheOnion : bigrams, stop_words = 'english'"
   ]
  },
  {
   "cell_type": "code",
   "execution_count": 38,
   "metadata": {},
   "outputs": [
    {
     "data": {
      "text/plain": [
       "Text(0, 0.5, 'Words')"
      ]
     },
     "execution_count": 38,
     "metadata": {},
     "output_type": "execute_result"
    },
    {
     "data": {
      "image/png": "[encoded data removed]",
      "text/plain": [
       "<Figure size 1440x864 with 1 Axes>"
      ]
     },
     "metadata": {
      "needs_background": "light"
     },
     "output_type": "display_data"
    }
   ],
   "source": [
    "onion_bigram_counts = pd.DataFrame(term_counts(df = df_onion,n_gram=(2,2),stop_list = 'english'), columns=[\"count\"])\n",
    "\n",
    "onion_top_bigrams = onion_bigram_counts.head(15).sort_values(by = 'count',ascending = True)\n",
    "onion_top_bigrams.plot(kind = 'barh',figsize=(20,12),fontsize=18)\n",
    "plt.title('Frequently Occuring Bigrams in r/TheOnion',size = 20)\n",
    "plt.xlabel('Counts', size = 20)\n",
    "plt.ylabel('Words', size = 20)\n",
    "#plt.figtext(20,20,s = f'Number of Unique Bigrams: {len(onion_top_bigrams)}');"
   ]
  },
  {
   "cell_type": "code",
   "execution_count": 39,
   "metadata": {},
   "outputs": [
    {
     "name": "stdout",
     "output_type": "stream",
     "text": [
      "Number of Unique Bigrams: 6506\n"
     ]
    },
    {
     "data": {
      "text/plain": [
       "white house        14\n",
       "year old            9\n",
       "covid 19            9\n",
       "donald trump        7\n",
       "undecided voter     6\n",
       "onion reviews       5\n",
       "kamala harris       5\n",
       "high school         5\n",
       "2020 election       5\n",
       "dtype: int64"
      ]
     },
     "execution_count": 39,
     "metadata": {},
     "output_type": "execute_result"
    }
   ],
   "source": [
    "cvec = CountVectorizer(stop_words='english',ngram_range=(2,2))\n",
    "# Fit our CountVectorizer on the training data and transform training data.\n",
    "onion_bigram_cvec_stop = pd.DataFrame(cvec.fit_transform(df_onion['title']).todense(),\n",
    "                          columns = cvec.get_feature_names())\n",
    "print(f'Number of Unique Bigrams: {onion_bigram_cvec_stop.shape[1]}')\n",
    "onion_bigram_cvec_stop.sum()[onion_bigram_cvec_stop.sum() >= 5].sort_values(ascending = False)"
   ]
  },
  {
   "cell_type": "code",
   "execution_count": 40,
   "metadata": {},
   "outputs": [
    {
     "data": {
      "image/png": "[encoded data removed]",
      "text/plain": [
       "<Figure size 1440x864 with 1 Axes>"
      ]
     },
     "metadata": {
      "needs_background": "light"
     },
     "output_type": "display_data"
    }
   ],
   "source": [
    "onion_bigram_cvec_stop_top = onion_bigram_cvec_stop.sum().sort_values(ascending = True).tail(15)\n",
    "onion_bigram_cvec_stop_top.plot(kind = 'barh',figsize=(20,12),fontsize=18)\n",
    "plt.title('Frequently Occuring Bigrams in r/TheOnion',size = 20)\n",
    "plt.xlabel('Counts', size = 20)\n",
    "plt.ylabel('Bigrams', size = 20);"
   ]
  },
  {
   "cell_type": "markdown",
   "metadata": {},
   "source": [
    "#### Conspiracy : no stop words"
   ]
  },
  {
   "cell_type": "code",
   "execution_count": 41,
   "metadata": {},
   "outputs": [
    {
     "name": "stdout",
     "output_type": "stream",
     "text": [
      "Number of Unique Words: 3908\n"
     ]
    },
    {
     "data": {
      "text/plain": [
       "the      655\n",
       "to       317\n",
       "of       267\n",
       "and      237\n",
       "is       223\n",
       "        ... \n",
       "syria     27\n",
       "more      26\n",
       "here      25\n",
       "new       25\n",
       "your      25\n",
       "Length: 65, dtype: int64"
      ]
     },
     "execution_count": 41,
     "metadata": {},
     "output_type": "execute_result"
    }
   ],
   "source": [
    "# Instantiate CountVectorizer\n",
    "cvec = CountVectorizer()\n",
    "# Fit CountVectorizer on the training data and transform training data.\n",
    "conspiracy_cvec = pd.DataFrame(cvec.fit_transform(df_conspiracy['title']).todense(),\n",
    "                          columns = cvec.get_feature_names())\n",
    "print(f'Number of Unique Words: {conspiracy_cvec.shape[1]}')\n",
    "conspiracy_cvec.sum()[conspiracy_cvec.sum() >= 25].sort_values(ascending = False)"
   ]
  },
  {
   "cell_type": "markdown",
   "metadata": {},
   "source": [
    "#### Conspiracy : bigram, no stop words"
   ]
  },
  {
   "cell_type": "code",
   "execution_count": 42,
   "metadata": {},
   "outputs": [
    {
     "name": "stdout",
     "output_type": "stream",
     "text": [
      "Number of Unique Bigrams: 10005\n"
     ]
    },
    {
     "data": {
      "text/plain": [
       "of the           61\n",
       "in the           44\n",
       "from the         22\n",
       "on the           20\n",
       "covid 19         19\n",
       "this is          19\n",
       "and the          18\n",
       "for the          18\n",
       "is the           17\n",
       "to the           17\n",
       "to be            15\n",
       "bill gates       14\n",
       "do you           14\n",
       "in syria         14\n",
       "about the        14\n",
       "the world        13\n",
       "they are         13\n",
       "you think        12\n",
       "joe biden        11\n",
       "by the           11\n",
       "at the           11\n",
       "are the          11\n",
       "going to         10\n",
       "tiffany dover    10\n",
       "to get           10\n",
       "we re             9\n",
       "the covid         9\n",
       "how the           9\n",
       "the us            9\n",
       "this sub          9\n",
       "all the           9\n",
       "dtype: int64"
      ]
     },
     "execution_count": 42,
     "metadata": {},
     "output_type": "execute_result"
    }
   ],
   "source": [
    "# Instantiate CountVectorizer\n",
    "cvec = CountVectorizer(ngram_range=(2,2))\n",
    "# Fit CountVectorizer on the training data and transform training data.\n",
    "conspiracy_bigram_cvec = pd.DataFrame(cvec.fit_transform(df_conspiracy['title']).todense(),\n",
    "                          columns = cvec.get_feature_names())\n",
    "print(f'Number of Unique Bigrams: {conspiracy_bigram_cvec.shape[1]}')\n",
    "conspiracy_bigram_cvec.sum()[conspiracy_bigram_cvec.sum() >= 9].sort_values(ascending = False)"
   ]
  },
  {
   "cell_type": "markdown",
   "metadata": {},
   "source": [
    "#### Conspiracy : stop_words = 'english'"
   ]
  },
  {
   "cell_type": "code",
   "execution_count": 43,
   "metadata": {},
   "outputs": [
    {
     "name": "stdout",
     "output_type": "stream",
     "text": [
      "Number of Unique Words: 3678\n"
     ]
    },
    {
     "data": {
      "text/plain": [
       "covid         71\n",
       "just          58\n",
       "people        50\n",
       "biden         46\n",
       "conspiracy    40\n",
       "time          29\n",
       "amp           28\n",
       "like          27\n",
       "syria         27\n",
       "vaccine       27\n",
       "new           25\n",
       "post          23\n",
       "government    23\n",
       "think         23\n",
       "trump         23\n",
       "going         22\n",
       "world         22\n",
       "does          21\n",
       "real          20\n",
       "dtype: int64"
      ]
     },
     "execution_count": 43,
     "metadata": {},
     "output_type": "execute_result"
    }
   ],
   "source": [
    "cvec = CountVectorizer(stop_words='english')\n",
    "# Fit our CountVectorizer on the training data and transform training data.\n",
    "conspiracy_cvec_stop = pd.DataFrame(cvec.fit_transform(df_conspiracy['title']).todense(),\n",
    "                          columns = cvec.get_feature_names())\n",
    "print(f'Number of Unique Words: {conspiracy_cvec_stop.shape[1]}')\n",
    "conspiracy_cvec_stop.sum()[conspiracy_cvec_stop.sum() >= 20].sort_values(ascending = False)"
   ]
  },
  {
   "cell_type": "code",
   "execution_count": 45,
   "metadata": {},
   "outputs": [
    {
     "data": {
      "image/png": "[encoded data removed]",
      "text/plain": [
       "<Figure size 1440x864 with 1 Axes>"
      ]
     },
     "metadata": {
      "needs_background": "light"
     },
     "output_type": "display_data"
    }
   ],
   "source": [
    "conspiracy_cvec_stop_top = conspiracy_cvec_stop.sum().sort_values(ascending = True).tail(15)\n",
    "conspiracy_cvec_stop_top.plot(kind = 'barh',figsize=(20,12),fontsize=18)\n",
    "plt.title('Frequently Occuring Words in r/Conspiracy',size = 20)\n",
    "plt.xlabel('Counts', size = 20)\n",
    "plt.ylabel('Words', size = 20);"
   ]
  },
  {
   "cell_type": "markdown",
   "metadata": {},
   "source": [
    "#### Conspiracy : bigrams, stop_words = 'english'"
   ]
  },
  {
   "cell_type": "code",
   "execution_count": 46,
   "metadata": {},
   "outputs": [
    {
     "name": "stdout",
     "output_type": "stream",
     "text": [
      "Number of Unique Bigrams: 6210\n"
     ]
    },
    {
     "data": {
      "text/plain": [
       "covid 19         19\n",
       "joe biden        11\n",
       "tiffany dover    10\n",
       "dtype: int64"
      ]
     },
     "execution_count": 46,
     "metadata": {},
     "output_type": "execute_result"
    }
   ],
   "source": [
    "# Instantiate CountVectorizer\n",
    "cvec = CountVectorizer(stop_words = 'english',ngram_range=(2,2))\n",
    "# Fit CountVectorizer on the training data and transform training data.\n",
    "conspiracy_bigram_cvec_stop = pd.DataFrame(cvec.fit_transform(df_conspiracy['title']).todense(),\n",
    "                          columns = cvec.get_feature_names())\n",
    "print(f'Number of Unique Bigrams: {conspiracy_bigram_cvec_stop.shape[1]}')\n",
    "conspiracy_bigram_cvec_stop.sum()[conspiracy_bigram_cvec_stop.sum() >= 5].sort_values(ascending = False)"
   ]
  },
  {
   "cell_type": "code",
   "execution_count": 47,
   "metadata": {},
   "outputs": [
    {
     "data": {
      "image/png": "[encoded data removed]",
      "text/plain": [
       "<Figure size 1440x864 with 1 Axes>"
      ]
     },
     "metadata": {
      "needs_background": "light"
     },
     "output_type": "display_data"
    }
   ],
   "source": [
    "conspiracy_bigram_cvec_stop_top = conspiracy_bigram_cvec_stop.sum().sort_values(ascending = True).tail(15)\n",
    "conspiracy_bigram_cvec_stop_top.plot(kind = 'barh',figsize=(20,12),fontsize=18)\n",
    "plt.title('Frequently Occuring Bigrams in r/Conspiracy',size = 20)\n",
    "plt.xlabel('Counts', size = 20)\n",
    "plt.ylabel('Bigrams', size = 20);"
   ]
  },
  {
   "cell_type": "code",
   "execution_count": 48,
   "metadata": {},
   "outputs": [],
   "source": [
    "# Find all common words in TheOnion and Conspiracy Posts\n",
    "common_words = []\n",
    "for i in list(onion_cvec_stop):\n",
    "    for j in list(conspiracy_cvec_stop):\n",
    "        if i == j:\n",
    "            common_words.append(i)"
   ]
  },
  {
   "cell_type": "code",
   "execution_count": 49,
   "metadata": {},
   "outputs": [
    {
     "data": {
      "text/plain": [
       "1367"
      ]
     },
     "execution_count": 49,
     "metadata": {},
     "output_type": "execute_result"
    }
   ],
   "source": [
    "len(common_words)"
   ]
  },
  {
   "cell_type": "markdown",
   "metadata": {},
   "source": [
    "### List of stop words common in both subreddits"
   ]
  },
  {
   "cell_type": "code",
   "execution_count": 50,
   "metadata": {},
   "outputs": [],
   "source": [
    "stop_english_common = text.ENGLISH_STOP_WORDS.union(common_words)"
   ]
  },
  {
   "cell_type": "code",
   "execution_count": 51,
   "metadata": {},
   "outputs": [
    {
     "data": {
      "text/plain": [
       "syria      27\n",
       "11         18\n",
       "gates      17\n",
       "theory     14\n",
       "sub        14\n",
       "test       13\n",
       "reddit     12\n",
       "cpac       12\n",
       "ufo        11\n",
       "human      11\n",
       "flu        11\n",
       "cia        11\n",
       "truth      10\n",
       "science    10\n",
       "iran       10\n",
       "dover      10\n",
       "dtype: int64"
      ]
     },
     "execution_count": 51,
     "metadata": {},
     "output_type": "execute_result"
    }
   ],
   "source": [
    "cvec = CountVectorizer(stop_words=stop_english_common)\n",
    "# Fit our CountVectorizer on the training data and transform training data.\n",
    "conspiracy_cvec_stop_en_com = pd.DataFrame(cvec.fit_transform(df_conspiracy['title']).todense(),\n",
    "                          columns = cvec.get_feature_names())\n",
    "conspiracy_cvec_stop_en_com.sum()[conspiracy_cvec_stop_en_com.sum()>9].sort_values(ascending = False)"
   ]
  },
  {
   "cell_type": "code",
   "execution_count": 52,
   "metadata": {},
   "outputs": [
    {
     "data": {
      "text/plain": [
       "nation       39\n",
       "onion        26\n",
       "announces    13\n",
       "gamers       13\n",
       "voter        12\n",
       "             ..\n",
       "hopes         5\n",
       "gaming        5\n",
       "feeling       5\n",
       "fan           5\n",
       "announce      5\n",
       "Length: 65, dtype: int64"
      ]
     },
     "execution_count": 52,
     "metadata": {},
     "output_type": "execute_result"
    }
   ],
   "source": [
    "cvec = CountVectorizer(stop_words=stop_english_common)\n",
    "# Fit our CountVectorizer on the training data and transform training data.\n",
    "onion_cvec_stop_en_com = pd.DataFrame(cvec.fit_transform(df_onion['title']).todense(),\n",
    "                          columns = cvec.get_feature_names())\n",
    "onion_cvec_stop_en_com.sum()[onion_cvec_stop_en_com.sum()>=5].sort_values(ascending = False)"
   ]
  },
  {
   "cell_type": "markdown",
   "metadata": {},
   "source": [
    "## DataFrames Combined"
   ]
  },
  {
   "cell_type": "code",
   "execution_count": 53,
   "metadata": {
    "scrolled": true
   },
   "outputs": [],
   "source": [
    "df_combined = df_onion.append(df_conspiracy)"
   ]
  },
  {
   "cell_type": "code",
   "execution_count": 54,
   "metadata": {},
   "outputs": [],
   "source": [
    "df_combined['subreddit'] = df_combined['subreddit'].map({'TheOnion': 1, 'conspiracy': 0})"
   ]
  },
  {
   "cell_type": "code",
   "execution_count": 55,
   "metadata": {},
   "outputs": [],
   "source": [
    "df_combined.reset_index(inplace = True,drop = True)"
   ]
  },
  {
   "cell_type": "markdown",
   "metadata": {},
   "source": [
    "### Export Combined Dataframe to CSV"
   ]
  },
  {
   "cell_type": "code",
   "execution_count": 56,
   "metadata": {},
   "outputs": [],
   "source": [
    "df_combined.to_csv('./combined_data.csv')"
   ]
  },
  {
   "cell_type": "markdown",
   "metadata": {},
   "source": [
    "# Part-3:  Modeling the System"
   ]
  },
  {
   "cell_type": "code",
   "execution_count": 57,
   "metadata": {},
   "outputs": [],
   "source": [
    "from sklearn.linear_model import LogisticRegression\n",
    "from sklearn.model_selection import GridSearchCV, train_test_split\n",
    "from sklearn.pipeline import Pipeline\n",
    "from sklearn.neighbors import KNeighborsClassifier\n",
    "from sklearn.naive_bayes import MultinomialNB\n",
    "from sklearn.metrics import accuracy_score,recall_score,precision_score, confusion_matrix\n",
    "from sklearn.tree import DecisionTreeClassifier\n",
    "from sklearn.ensemble import RandomForestClassifier,AdaBoostClassifier"
   ]
  },
  {
   "cell_type": "markdown",
   "metadata": {},
   "source": [
    "## Creating features (X)  and target variable (y)"
   ]
  },
  {
   "cell_type": "code",
   "execution_count": 58,
   "metadata": {},
   "outputs": [],
   "source": [
    "X = df_combined['title']\n",
    "y = df_combined['subreddit']"
   ]
  },
  {
   "cell_type": "markdown",
   "metadata": {},
   "source": [
    "## Checking The Baseline Accuracy"
   ]
  },
  {
   "cell_type": "code",
   "execution_count": 59,
   "metadata": {},
   "outputs": [
    {
     "data": {
      "text/plain": [
       "1    0.50108\n",
       "0    0.49892\n",
       "Name: subreddit, dtype: float64"
      ]
     },
     "execution_count": 59,
     "metadata": {},
     "output_type": "execute_result"
    }
   ],
   "source": [
    "y.value_counts(normalize = True)"
   ]
  },
  {
   "cell_type": "markdown",
   "metadata": {},
   "source": [
    "## Function: Evaluating Vectorizers & Classifiers"
   ]
  },
  {
   "cell_type": "code",
   "execution_count": 60,
   "metadata": {
    "code_folding": []
   },
   "outputs": [],
   "source": [
    "vectorizer = [CountVectorizer(), TfidfVectorizer()]\n",
    "classifier = [KNeighborsClassifier(),LogisticRegression(), MultinomialNB(), RandomForestClassifier()]\n",
    "vec_param = { 'CountVectorizer': { \n",
    "                                    'CountVectorizer__max_features': [None,1200,2000,2250,3500],\n",
    "                                    'CountVectorizer__min_df': [2,3,4],\n",
    "                                    'CountVectorizer__max_df': [.3,.35,.4,.5],\n",
    "                                    'CountVectorizer__ngram_range': [(1,1),(1,2)],\n",
    "                                    'CountVectorizer__stop_words': [None,'english']\n",
    "                                    },\n",
    "               'TfidfVectorizer': {\n",
    "                                    'TfidfVectorizer__max_features': [None,1200,2000,2250,3500],\n",
    "                                    'TfidfVectorizer__min_df': [2,3,4],\n",
    "                                    'TfidfVectorizer__max_df': [.3,.35,.4,.5],\n",
    "                                    'TfidfVectorizer__ngram_range': [(1,1),(1,2)],\n",
    "                                    'TfidfVectorizer__stop_words': [None,'english']  \n",
    "                                    }\n",
    "              }\n",
    "clasf_param = { 'KNeighborsClassifier': {'KNeighborsClassifier__n_neighbors':[3,5,7]},\n",
    "                'LogisticRegression': {'LogisticRegression__penalty': ['l1','l2']},\n",
    "                'MultinomialNB': {},\n",
    "                'RandomForestClassifier': {'RandomForestClassifier__max_depth': [90, 100, 110],\n",
    "                                           #'RandomForestClassifier__max_features': [None, .5, .75, 'auto'],\n",
    "                                           'RandomForestClassifier__n_estimators': [100, 200, 300]}\n",
    "               }\n",
    "vect_names = ['CountVectorizer','TfidfVectorizer']\n",
    "clasf_names = ['KNeighborsClassifier','LogisticRegression','MultinomialNB','RandomForestClassifier']"
   ]
  },
  {
   "cell_type": "code",
   "execution_count": 61,
   "metadata": {
    "code_folding": []
   },
   "outputs": [],
   "source": [
    "def grid_pipe(X,y,vectorizers,classifiers,vects_names, clasfs_names, vec_params, clasf_params):\n",
    "    t0 = time.time()\n",
    "    score_list = []\n",
    "    # Train Test Split Data\n",
    "    X_train, X_test, y_train, y_test = train_test_split(X,y,stratify=y,random_state=42)\n",
    "    \n",
    "    for n_vec,vec in enumerate(vectorizers):\n",
    "        for n_clasf,clasf in enumerate(classifiers):\n",
    "            t1 = time.time()\n",
    "            # Empty Dictionary used to create dataframe of model performance\n",
    "            df_dict = {}\n",
    "            \n",
    "            # Create dictionary of Pipeline Params for Vectorizer-Classifier Combination\n",
    "            pipe_params = {}\n",
    "            vec_dict = vec_params[vects_names[n_vec]]\n",
    "            clasf_dict = clasf_params[clasfs_names[n_clasf]]\n",
    "            pipe_params.update(vec_dict)\n",
    "            pipe_params.update(clasf_dict)\n",
    "            \n",
    "            # Instantiate Pipeline for Vectorizer-Classifier Combination\n",
    "            pipe = Pipeline([\n",
    "                (f'{vects_names[n_vec]}', vec),\n",
    "                (f'{clasfs_names[n_clasf]}', clasf)\n",
    "            ])\n",
    "            \n",
    "            # Run GridSearchCV to determine best params for Vectorizer-Classifier Combination\n",
    "            gs = GridSearchCV(pipe, param_grid=pipe_params, cv=3, n_jobs = -1,verbose = 1)\n",
    "            gs.fit(X_train,y_train)\n",
    "            \n",
    "            best_estimator = gs.best_estimator_\n",
    "#             print(f'Best Estimator: {best_estimator}')\n",
    "            print(f'Vectorizer: {vects_names[n_vec]}, Classifier: {clasfs_names[n_clasf]}')\n",
    "            print(f'Best Params: {gs.best_params_}')\n",
    "            print(f'Best Score: {gs.best_score_}')\n",
    "            print(f'\\n')\n",
    "            \n",
    "            # Fit using Best Estimator\n",
    "            best_estimator.fit(X_train, y_train)\n",
    "            \n",
    "            # Make predictions using Best Estimator\n",
    "            pred_train = best_estimator.predict(X_train)\n",
    "            pred_test  = best_estimator.predict(X_test)\n",
    "            \n",
    "            \n",
    "            # create confusion matrices for Train and Test\n",
    "            tn_train,fp_train,fn_train,tp_train  = confusion_matrix(y_train,pred_train).ravel()\n",
    "            tn_test,fp_test,fn_test,tp_test  = confusion_matrix(y_test,pred_test).ravel()\n",
    "            \n",
    "            # Name of Vectorizer and Classifier\n",
    "            df_dict['model_vectorizer']  = vects_names[n_vec]\n",
    "            df_dict['model_classifier']  = clasfs_names[n_clasf]\n",
    "            df_dict['model_best_params'] = gs.best_params_\n",
    "            \n",
    "            # Calculate Accuracy of Train and Test Predictions\n",
    "            df_dict['train_accuracy'] = accuracy_score(y_train,pred_train)\n",
    "            df_dict['test_accuracy']  = accuracy_score(y_test,pred_test)\n",
    "            \n",
    "            # Calculate Sensitivity of Train and Test Predicitons\n",
    "            df_dict['train_sensitivity'] = recall_score(y_train,pred_train)\n",
    "            df_dict['test_sensitivity']  = recall_score(y_test,pred_test)\n",
    "            \n",
    "            # Calculate Specificity of Train and Test Predicitons\n",
    "            df_dict['train_specificity'] = (tn_train/(tn_train+fp_train))\n",
    "            df_dict['test_specificity']  = (tn_test/(tn_test+fp_test))\n",
    "            \n",
    "            # Calculate Precision of Train and Test Predicitons\n",
    "            df_dict['train_precision'] = precision_score(y_train,pred_train)\n",
    "            df_dict['test_precision']  = precision_score(y_test,pred_test)\n",
    "            \n",
    "            score_list.append(df_dict)\n",
    "            t2 = time.time()\n",
    "            print(f'Run Time for {vects_names[n_vec]} & {clasfs_names[n_clasf]}: {t2-t1}\\n')\n",
    "    t3 = time.time()\n",
    "    print(f'Total Run Time: {t3-t0}')\n",
    "    return(pd.DataFrame(data = score_list))"
   ]
  },
  {
   "cell_type": "code",
   "execution_count": 62,
   "metadata": {
    "code_folding": [
     0
    ]
   },
   "outputs": [
    {
     "name": "stdout",
     "output_type": "stream",
     "text": [
      "Fitting 3 folds for each of 720 candidates, totalling 2160 fits\n"
     ]
    },
    {
     "name": "stderr",
     "output_type": "stream",
     "text": [
      "[Parallel(n_jobs=-1)]: Using backend LokyBackend with 8 concurrent workers.\n",
      "[Parallel(n_jobs=-1)]: Done  34 tasks      | elapsed:    1.8s\n",
      "/Users/tahir/anaconda3/lib/python3.8/site-packages/joblib/externals/loky/process_executor.py:688: UserWarning: A worker stopped while some jobs were given to the executor. This can be caused by a too short worker timeout or by a memory leak.\n",
      "  warnings.warn(\n",
      "[Parallel(n_jobs=-1)]: Done 560 tasks      | elapsed:    6.8s\n",
      "[Parallel(n_jobs=-1)]: Done 1560 tasks      | elapsed:   14.3s\n",
      "[Parallel(n_jobs=-1)]: Done 2160 out of 2160 | elapsed:   19.1s finished\n",
      "[Parallel(n_jobs=-1)]: Using backend LokyBackend with 8 concurrent workers.\n"
     ]
    },
    {
     "name": "stdout",
     "output_type": "stream",
     "text": [
      "Vectorizer: CountVectorizer, Classifier: KNeighborsClassifier\n",
      "Best Params: {'CountVectorizer__max_df': 0.35, 'CountVectorizer__max_features': None, 'CountVectorizer__min_df': 4, 'CountVectorizer__ngram_range': (1, 2), 'CountVectorizer__stop_words': None, 'KNeighborsClassifier__n_neighbors': 5}\n",
      "Best Score: 0.6025917926565875\n",
      "\n",
      "\n",
      "Run Time for CountVectorizer & KNeighborsClassifier: 19.28921604156494\n",
      "\n",
      "Fitting 3 folds for each of 480 candidates, totalling 1440 fits\n"
     ]
    },
    {
     "name": "stderr",
     "output_type": "stream",
     "text": [
      "/Users/tahir/anaconda3/lib/python3.8/site-packages/joblib/externals/loky/process_executor.py:688: UserWarning: A worker stopped while some jobs were given to the executor. This can be caused by a too short worker timeout or by a memory leak.\n",
      "  warnings.warn(\n",
      "[Parallel(n_jobs=-1)]: Done  52 tasks      | elapsed:    0.5s\n",
      "[Parallel(n_jobs=-1)]: Done 1008 tasks      | elapsed:    6.2s\n",
      "[Parallel(n_jobs=-1)]: Done 1440 out of 1440 | elapsed:    8.4s finished\n",
      "[Parallel(n_jobs=-1)]: Using backend LokyBackend with 8 concurrent workers.\n"
     ]
    },
    {
     "name": "stdout",
     "output_type": "stream",
     "text": [
      "Vectorizer: CountVectorizer, Classifier: LogisticRegression\n",
      "Best Params: {'CountVectorizer__max_df': 0.35, 'CountVectorizer__max_features': None, 'CountVectorizer__min_df': 3, 'CountVectorizer__ngram_range': (1, 2), 'CountVectorizer__stop_words': None, 'LogisticRegression__penalty': 'l2'}\n",
      "Best Score: 0.7984161267098632\n",
      "\n",
      "\n",
      "Run Time for CountVectorizer & LogisticRegression: 8.597017288208008\n",
      "\n",
      "Fitting 3 folds for each of 240 candidates, totalling 720 fits\n"
     ]
    },
    {
     "name": "stderr",
     "output_type": "stream",
     "text": [
      "[Parallel(n_jobs=-1)]: Done  56 tasks      | elapsed:    0.4s\n",
      "[Parallel(n_jobs=-1)]: Done 720 out of 720 | elapsed:    3.6s finished\n",
      "[Parallel(n_jobs=-1)]: Using backend LokyBackend with 8 concurrent workers.\n"
     ]
    },
    {
     "name": "stdout",
     "output_type": "stream",
     "text": [
      "Vectorizer: CountVectorizer, Classifier: MultinomialNB\n",
      "Best Params: {'CountVectorizer__max_df': 0.35, 'CountVectorizer__max_features': None, 'CountVectorizer__min_df': 2, 'CountVectorizer__ngram_range': (1, 1), 'CountVectorizer__stop_words': None}\n",
      "Best Score: 0.7962562994960404\n",
      "\n",
      "\n",
      "Run Time for CountVectorizer & MultinomialNB: 3.6516010761260986\n",
      "\n",
      "Fitting 3 folds for each of 2160 candidates, totalling 6480 fits\n"
     ]
    },
    {
     "name": "stderr",
     "output_type": "stream",
     "text": [
      "/Users/tahir/anaconda3/lib/python3.8/site-packages/joblib/externals/loky/process_executor.py:688: UserWarning: A worker stopped while some jobs were given to the executor. This can be caused by a too short worker timeout or by a memory leak.\n",
      "  warnings.warn(\n",
      "[Parallel(n_jobs=-1)]: Done  34 tasks      | elapsed:    3.2s\n",
      "[Parallel(n_jobs=-1)]: Done 184 tasks      | elapsed:   14.2s\n",
      "[Parallel(n_jobs=-1)]: Done 434 tasks      | elapsed:   31.3s\n",
      "[Parallel(n_jobs=-1)]: Done 784 tasks      | elapsed:   56.6s\n",
      "[Parallel(n_jobs=-1)]: Done 1234 tasks      | elapsed:  1.5min\n",
      "[Parallel(n_jobs=-1)]: Done 1784 tasks      | elapsed:  2.1min\n",
      "[Parallel(n_jobs=-1)]: Done 2434 tasks      | elapsed:  2.9min\n",
      "[Parallel(n_jobs=-1)]: Done 3184 tasks      | elapsed:  3.7min\n",
      "[Parallel(n_jobs=-1)]: Done 4034 tasks      | elapsed:  4.8min\n",
      "[Parallel(n_jobs=-1)]: Done 4984 tasks      | elapsed:  5.9min\n",
      "[Parallel(n_jobs=-1)]: Done 6034 tasks      | elapsed:  7.2min\n",
      "[Parallel(n_jobs=-1)]: Done 6480 out of 6480 | elapsed:  7.7min finished\n"
     ]
    },
    {
     "name": "stdout",
     "output_type": "stream",
     "text": [
      "Vectorizer: CountVectorizer, Classifier: RandomForestClassifier\n",
      "Best Params: {'CountVectorizer__max_df': 0.4, 'CountVectorizer__max_features': None, 'CountVectorizer__min_df': 2, 'CountVectorizer__ngram_range': (1, 2), 'CountVectorizer__stop_words': None, 'RandomForestClassifier__max_depth': 110, 'RandomForestClassifier__n_estimators': 100}\n",
      "Best Score: 0.804895608351332\n",
      "\n",
      "\n",
      "Run Time for CountVectorizer & RandomForestClassifier: 461.9537811279297\n",
      "\n",
      "Fitting 3 folds for each of 720 candidates, totalling 2160 fits\n"
     ]
    },
    {
     "name": "stderr",
     "output_type": "stream",
     "text": [
      "[Parallel(n_jobs=-1)]: Using backend LokyBackend with 8 concurrent workers.\n",
      "[Parallel(n_jobs=-1)]: Done  56 tasks      | elapsed:    0.5s\n",
      "/Users/tahir/anaconda3/lib/python3.8/site-packages/joblib/externals/loky/process_executor.py:688: UserWarning: A worker stopped while some jobs were given to the executor. This can be caused by a too short worker timeout or by a memory leak.\n",
      "  warnings.warn(\n",
      "[Parallel(n_jobs=-1)]: Done 656 tasks      | elapsed:    6.4s\n",
      "[Parallel(n_jobs=-1)]: Done 1656 tasks      | elapsed:   14.0s\n",
      "[Parallel(n_jobs=-1)]: Done 2160 out of 2160 | elapsed:   18.1s finished\n",
      "[Parallel(n_jobs=-1)]: Using backend LokyBackend with 8 concurrent workers.\n"
     ]
    },
    {
     "name": "stdout",
     "output_type": "stream",
     "text": [
      "Vectorizer: TfidfVectorizer, Classifier: KNeighborsClassifier\n",
      "Best Params: {'KNeighborsClassifier__n_neighbors': 3, 'TfidfVectorizer__max_df': 0.3, 'TfidfVectorizer__max_features': None, 'TfidfVectorizer__min_df': 4, 'TfidfVectorizer__ngram_range': (1, 2), 'TfidfVectorizer__stop_words': 'english'}\n",
      "Best Score: 0.6155507559395249\n",
      "\n",
      "\n",
      "Run Time for TfidfVectorizer & KNeighborsClassifier: 18.21776294708252\n",
      "\n",
      "Fitting 3 folds for each of 480 candidates, totalling 1440 fits\n"
     ]
    },
    {
     "name": "stderr",
     "output_type": "stream",
     "text": [
      "[Parallel(n_jobs=-1)]: Done  56 tasks      | elapsed:    0.3s\n",
      "/Users/tahir/anaconda3/lib/python3.8/site-packages/joblib/externals/loky/process_executor.py:688: UserWarning: A worker stopped while some jobs were given to the executor. This can be caused by a too short worker timeout or by a memory leak.\n",
      "  warnings.warn(\n",
      "[Parallel(n_jobs=-1)]: Done 1200 tasks      | elapsed:    6.7s\n",
      "[Parallel(n_jobs=-1)]: Done 1440 out of 1440 | elapsed:    8.2s finished\n",
      "[Parallel(n_jobs=-1)]: Using backend LokyBackend with 8 concurrent workers.\n"
     ]
    },
    {
     "name": "stdout",
     "output_type": "stream",
     "text": [
      "Vectorizer: TfidfVectorizer, Classifier: LogisticRegression\n",
      "Best Params: {'LogisticRegression__penalty': 'l2', 'TfidfVectorizer__max_df': 0.3, 'TfidfVectorizer__max_features': None, 'TfidfVectorizer__min_df': 3, 'TfidfVectorizer__ngram_range': (1, 2), 'TfidfVectorizer__stop_words': None}\n",
      "Best Score: 0.7998560115190786\n",
      "\n",
      "\n",
      "Run Time for TfidfVectorizer & LogisticRegression: 8.294955015182495\n",
      "\n",
      "Fitting 3 folds for each of 240 candidates, totalling 720 fits\n"
     ]
    },
    {
     "name": "stderr",
     "output_type": "stream",
     "text": [
      "[Parallel(n_jobs=-1)]: Done  56 tasks      | elapsed:    0.4s\n",
      "[Parallel(n_jobs=-1)]: Done 705 out of 720 | elapsed:    3.8s remaining:    0.1s\n",
      "[Parallel(n_jobs=-1)]: Done 720 out of 720 | elapsed:    3.8s finished\n",
      "[Parallel(n_jobs=-1)]: Using backend LokyBackend with 8 concurrent workers.\n"
     ]
    },
    {
     "name": "stdout",
     "output_type": "stream",
     "text": [
      "Vectorizer: TfidfVectorizer, Classifier: MultinomialNB\n",
      "Best Params: {'TfidfVectorizer__max_df': 0.35, 'TfidfVectorizer__max_features': None, 'TfidfVectorizer__min_df': 2, 'TfidfVectorizer__ngram_range': (1, 1), 'TfidfVectorizer__stop_words': None}\n",
      "Best Score: 0.7897768178545718\n",
      "\n",
      "\n",
      "Run Time for TfidfVectorizer & MultinomialNB: 3.8928041458129883\n",
      "\n",
      "Fitting 3 folds for each of 2160 candidates, totalling 6480 fits\n"
     ]
    },
    {
     "name": "stderr",
     "output_type": "stream",
     "text": [
      "/Users/tahir/anaconda3/lib/python3.8/site-packages/joblib/externals/loky/process_executor.py:688: UserWarning: A worker stopped while some jobs were given to the executor. This can be caused by a too short worker timeout or by a memory leak.\n",
      "  warnings.warn(\n",
      "[Parallel(n_jobs=-1)]: Done  34 tasks      | elapsed:    1.7s\n",
      "[Parallel(n_jobs=-1)]: Done 184 tasks      | elapsed:    7.9s\n",
      "[Parallel(n_jobs=-1)]: Done 434 tasks      | elapsed:   17.5s\n",
      "[Parallel(n_jobs=-1)]: Done 784 tasks      | elapsed:   33.2s\n",
      "[Parallel(n_jobs=-1)]: Done 1234 tasks      | elapsed:  1.1min\n",
      "[Parallel(n_jobs=-1)]: Done 1784 tasks      | elapsed:  1.9min\n",
      "[Parallel(n_jobs=-1)]: Done 2434 tasks      | elapsed:  2.8min\n",
      "[Parallel(n_jobs=-1)]: Done 3184 tasks      | elapsed:  3.4min\n",
      "[Parallel(n_jobs=-1)]: Done 4034 tasks      | elapsed:  4.7min\n",
      "[Parallel(n_jobs=-1)]: Done 4984 tasks      | elapsed:  5.6min\n",
      "[Parallel(n_jobs=-1)]: Done 6034 tasks      | elapsed:  7.1min\n",
      "[Parallel(n_jobs=-1)]: Done 6480 out of 6480 | elapsed:  7.9min finished\n"
     ]
    },
    {
     "name": "stdout",
     "output_type": "stream",
     "text": [
      "Vectorizer: TfidfVectorizer, Classifier: RandomForestClassifier\n",
      "Best Params: {'RandomForestClassifier__max_depth': 90, 'RandomForestClassifier__n_estimators': 100, 'TfidfVectorizer__max_df': 0.5, 'TfidfVectorizer__max_features': None, 'TfidfVectorizer__min_df': 4, 'TfidfVectorizer__ngram_range': (1, 2), 'TfidfVectorizer__stop_words': None}\n",
      "Best Score: 0.8041756659467243\n",
      "\n",
      "\n",
      "Run Time for TfidfVectorizer & RandomForestClassifier: 472.72821617126465\n",
      "\n",
      "Total Run Time: 996.6329560279846\n"
     ]
    },
    {
     "data": {
      "text/html": [
       "<div>\n",
       "<style scoped>\n",
       "    .dataframe tbody tr th:only-of-type {\n",
       "        vertical-align: middle;\n",
       "    }\n",
       "\n",
       "    .dataframe tbody tr th {\n",
       "        vertical-align: top;\n",
       "    }\n",
       "\n",
       "    .dataframe thead th {\n",
       "        text-align: right;\n",
       "    }\n",
       "</style>\n",
       "<table border=\"1\" class=\"dataframe\">\n",
       "  <thead>\n",
       "    <tr style=\"text-align: right;\">\n",
       "      <th></th>\n",
       "      <th>model_vectorizer</th>\n",
       "      <th>model_classifier</th>\n",
       "      <th>model_best_params</th>\n",
       "      <th>train_accuracy</th>\n",
       "      <th>test_accuracy</th>\n",
       "      <th>train_sensitivity</th>\n",
       "      <th>test_sensitivity</th>\n",
       "      <th>train_specificity</th>\n",
       "      <th>test_specificity</th>\n",
       "      <th>train_precision</th>\n",
       "      <th>test_precision</th>\n",
       "    </tr>\n",
       "  </thead>\n",
       "  <tbody>\n",
       "    <tr>\n",
       "      <th>0</th>\n",
       "      <td>CountVectorizer</td>\n",
       "      <td>KNeighborsClassifier</td>\n",
       "      <td>{'CountVectorizer__max_df': 0.35, 'CountVector...</td>\n",
       "      <td>0.706263</td>\n",
       "      <td>0.589633</td>\n",
       "      <td>0.438218</td>\n",
       "      <td>0.237069</td>\n",
       "      <td>0.975469</td>\n",
       "      <td>0.943723</td>\n",
       "      <td>0.947205</td>\n",
       "      <td>0.808824</td>\n",
       "    </tr>\n",
       "    <tr>\n",
       "      <th>1</th>\n",
       "      <td>CountVectorizer</td>\n",
       "      <td>LogisticRegression</td>\n",
       "      <td>{'CountVectorizer__max_df': 0.35, 'CountVector...</td>\n",
       "      <td>0.968323</td>\n",
       "      <td>0.820734</td>\n",
       "      <td>0.966954</td>\n",
       "      <td>0.797414</td>\n",
       "      <td>0.969697</td>\n",
       "      <td>0.844156</td>\n",
       "      <td>0.969741</td>\n",
       "      <td>0.837104</td>\n",
       "    </tr>\n",
       "    <tr>\n",
       "      <th>2</th>\n",
       "      <td>CountVectorizer</td>\n",
       "      <td>MultinomialNB</td>\n",
       "      <td>{'CountVectorizer__max_df': 0.35, 'CountVector...</td>\n",
       "      <td>0.932325</td>\n",
       "      <td>0.816415</td>\n",
       "      <td>0.920977</td>\n",
       "      <td>0.767241</td>\n",
       "      <td>0.943723</td>\n",
       "      <td>0.865801</td>\n",
       "      <td>0.942647</td>\n",
       "      <td>0.851675</td>\n",
       "    </tr>\n",
       "    <tr>\n",
       "      <th>3</th>\n",
       "      <td>CountVectorizer</td>\n",
       "      <td>RandomForestClassifier</td>\n",
       "      <td>{'CountVectorizer__max_df': 0.4, 'CountVectori...</td>\n",
       "      <td>0.993521</td>\n",
       "      <td>0.809935</td>\n",
       "      <td>0.987069</td>\n",
       "      <td>0.702586</td>\n",
       "      <td>1.000000</td>\n",
       "      <td>0.917749</td>\n",
       "      <td>1.000000</td>\n",
       "      <td>0.895604</td>\n",
       "    </tr>\n",
       "    <tr>\n",
       "      <th>4</th>\n",
       "      <td>TfidfVectorizer</td>\n",
       "      <td>KNeighborsClassifier</td>\n",
       "      <td>{'KNeighborsClassifier__n_neighbors': 3, 'Tfid...</td>\n",
       "      <td>0.708423</td>\n",
       "      <td>0.563715</td>\n",
       "      <td>0.468391</td>\n",
       "      <td>0.228448</td>\n",
       "      <td>0.949495</td>\n",
       "      <td>0.900433</td>\n",
       "      <td>0.903047</td>\n",
       "      <td>0.697368</td>\n",
       "    </tr>\n",
       "    <tr>\n",
       "      <th>5</th>\n",
       "      <td>TfidfVectorizer</td>\n",
       "      <td>LogisticRegression</td>\n",
       "      <td>{'LogisticRegression__penalty': 'l2', 'TfidfVe...</td>\n",
       "      <td>0.913607</td>\n",
       "      <td>0.809935</td>\n",
       "      <td>0.938218</td>\n",
       "      <td>0.806034</td>\n",
       "      <td>0.888889</td>\n",
       "      <td>0.813853</td>\n",
       "      <td>0.894521</td>\n",
       "      <td>0.813043</td>\n",
       "    </tr>\n",
       "    <tr>\n",
       "      <th>6</th>\n",
       "      <td>TfidfVectorizer</td>\n",
       "      <td>MultinomialNB</td>\n",
       "      <td>{'TfidfVectorizer__max_df': 0.35, 'TfidfVector...</td>\n",
       "      <td>0.945284</td>\n",
       "      <td>0.816415</td>\n",
       "      <td>0.928161</td>\n",
       "      <td>0.762931</td>\n",
       "      <td>0.962482</td>\n",
       "      <td>0.870130</td>\n",
       "      <td>0.961310</td>\n",
       "      <td>0.855072</td>\n",
       "    </tr>\n",
       "    <tr>\n",
       "      <th>7</th>\n",
       "      <td>TfidfVectorizer</td>\n",
       "      <td>RandomForestClassifier</td>\n",
       "      <td>{'RandomForestClassifier__max_depth': 90, 'Ran...</td>\n",
       "      <td>0.990641</td>\n",
       "      <td>0.790497</td>\n",
       "      <td>0.984195</td>\n",
       "      <td>0.728448</td>\n",
       "      <td>0.997114</td>\n",
       "      <td>0.852814</td>\n",
       "      <td>0.997089</td>\n",
       "      <td>0.832512</td>\n",
       "    </tr>\n",
       "  </tbody>\n",
       "</table>\n",
       "</div>"
      ],
      "text/plain": [
       "  model_vectorizer        model_classifier  \\\n",
       "0  CountVectorizer    KNeighborsClassifier   \n",
       "1  CountVectorizer      LogisticRegression   \n",
       "2  CountVectorizer           MultinomialNB   \n",
       "3  CountVectorizer  RandomForestClassifier   \n",
       "4  TfidfVectorizer    KNeighborsClassifier   \n",
       "5  TfidfVectorizer      LogisticRegression   \n",
       "6  TfidfVectorizer           MultinomialNB   \n",
       "7  TfidfVectorizer  RandomForestClassifier   \n",
       "\n",
       "                                   model_best_params  train_accuracy  \\\n",
       "0  {'CountVectorizer__max_df': 0.35, 'CountVector...        0.706263   \n",
       "1  {'CountVectorizer__max_df': 0.35, 'CountVector...        0.968323   \n",
       "2  {'CountVectorizer__max_df': 0.35, 'CountVector...        0.932325   \n",
       "3  {'CountVectorizer__max_df': 0.4, 'CountVectori...        0.993521   \n",
       "4  {'KNeighborsClassifier__n_neighbors': 3, 'Tfid...        0.708423   \n",
       "5  {'LogisticRegression__penalty': 'l2', 'TfidfVe...        0.913607   \n",
       "6  {'TfidfVectorizer__max_df': 0.35, 'TfidfVector...        0.945284   \n",
       "7  {'RandomForestClassifier__max_depth': 90, 'Ran...        0.990641   \n",
       "\n",
       "   test_accuracy  train_sensitivity  test_sensitivity  train_specificity  \\\n",
       "0       0.589633           0.438218          0.237069           0.975469   \n",
       "1       0.820734           0.966954          0.797414           0.969697   \n",
       "2       0.816415           0.920977          0.767241           0.943723   \n",
       "3       0.809935           0.987069          0.702586           1.000000   \n",
       "4       0.563715           0.468391          0.228448           0.949495   \n",
       "5       0.809935           0.938218          0.806034           0.888889   \n",
       "6       0.816415           0.928161          0.762931           0.962482   \n",
       "7       0.790497           0.984195          0.728448           0.997114   \n",
       "\n",
       "   test_specificity  train_precision  test_precision  \n",
       "0          0.943723         0.947205        0.808824  \n",
       "1          0.844156         0.969741        0.837104  \n",
       "2          0.865801         0.942647        0.851675  \n",
       "3          0.917749         1.000000        0.895604  \n",
       "4          0.900433         0.903047        0.697368  \n",
       "5          0.813853         0.894521        0.813043  \n",
       "6          0.870130         0.961310        0.855072  \n",
       "7          0.852814         0.997089        0.832512  "
      ]
     },
     "execution_count": 62,
     "metadata": {},
     "output_type": "execute_result"
    }
   ],
   "source": [
    "model_df = grid_pipe(X = X,\n",
    "                     y = y,\n",
    "                     vectorizers  = vectorizer,\n",
    "                     classifiers  = classifier,\n",
    "                     vects_names  = vect_names,\n",
    "                     clasfs_names = clasf_names,\n",
    "                     vec_params   = vec_param,\n",
    "                     clasf_params = clasf_param)\n",
    "model_df"
   ]
  },
  {
   "cell_type": "markdown",
   "metadata": {},
   "source": [
    "## Part-4: Pipeline and GridSearchCV"
   ]
  },
  {
   "cell_type": "markdown",
   "metadata": {},
   "source": [
    "### Train Test Split"
   ]
  },
  {
   "cell_type": "code",
   "execution_count": 63,
   "metadata": {},
   "outputs": [],
   "source": [
    "X_train, X_test, y_train, y_test = train_test_split(X,y,stratify=y,random_state=42)"
   ]
  },
  {
   "cell_type": "markdown",
   "metadata": {},
   "source": [
    "### Logistic Regression Pipelines"
   ]
  },
  {
   "cell_type": "markdown",
   "metadata": {},
   "source": [
    "#### CountVectorizer"
   ]
  },
  {
   "cell_type": "code",
   "execution_count": 64,
   "metadata": {},
   "outputs": [
    {
     "name": "stdout",
     "output_type": "stream",
     "text": [
      "Fitting 3 folds for each of 216 candidates, totalling 648 fits\n"
     ]
    },
    {
     "name": "stderr",
     "output_type": "stream",
     "text": [
      "[Parallel(n_jobs=2)]: Using backend LokyBackend with 2 concurrent workers.\n",
      "[Parallel(n_jobs=2)]: Done 216 tasks      | elapsed:    3.8s\n"
     ]
    },
    {
     "name": "stdout",
     "output_type": "stream",
     "text": [
      "Best Score: 0.8012958963282936\n",
      "Best Parameters: {'cvec__max_df': 0.33, 'cvec__max_features': 900, 'cvec__min_df': 2, 'cvec__ngram_range': (1, 1), 'cvec__stop_words': None, 'lr__penalty': 'l2'}\n",
      "Train Accuracy Score: 0.9409647228221742\n",
      "Test Accuracy Score: 0.8077753779697624\n"
     ]
    },
    {
     "name": "stderr",
     "output_type": "stream",
     "text": [
      "[Parallel(n_jobs=2)]: Done 648 out of 648 | elapsed:    9.4s finished\n"
     ]
    },
    {
     "data": {
      "text/html": [
       "<div>\n",
       "<style scoped>\n",
       "    .dataframe tbody tr th:only-of-type {\n",
       "        vertical-align: middle;\n",
       "    }\n",
       "\n",
       "    .dataframe tbody tr th {\n",
       "        vertical-align: top;\n",
       "    }\n",
       "\n",
       "    .dataframe thead th {\n",
       "        text-align: right;\n",
       "    }\n",
       "</style>\n",
       "<table border=\"1\" class=\"dataframe\">\n",
       "  <thead>\n",
       "    <tr style=\"text-align: right;\">\n",
       "      <th></th>\n",
       "      <th>predicted conspiracy</th>\n",
       "      <th>predicted onion</th>\n",
       "    </tr>\n",
       "  </thead>\n",
       "  <tbody>\n",
       "    <tr>\n",
       "      <th>actual conspiracy</th>\n",
       "      <td>189</td>\n",
       "      <td>42</td>\n",
       "    </tr>\n",
       "    <tr>\n",
       "      <th>actual onion</th>\n",
       "      <td>47</td>\n",
       "      <td>185</td>\n",
       "    </tr>\n",
       "  </tbody>\n",
       "</table>\n",
       "</div>"
      ],
      "text/plain": [
       "                   predicted conspiracy  predicted onion\n",
       "actual conspiracy                   189               42\n",
       "actual onion                         47              185"
      ]
     },
     "execution_count": 64,
     "metadata": {},
     "output_type": "execute_result"
    }
   ],
   "source": [
    "pipe_cvec_lr = Pipeline([\n",
    "    ('cvec', CountVectorizer()),\n",
    "    ('lr', LogisticRegression())\n",
    "])\n",
    "\n",
    "pipe_params_cvec_lr = {\n",
    "    'cvec__max_features': [850,900,950],\n",
    "    'cvec__min_df': [2,3,4],\n",
    "    'cvec__max_df': [.3,.33,.5],\n",
    "    'cvec__ngram_range': [(1,1),(1,2)],\n",
    "    'cvec__stop_words': [None,'english'],\n",
    "    'lr__penalty': ['l1','l2']\n",
    "}\n",
    "\n",
    "gs = GridSearchCV(pipe_cvec_lr, param_grid=pipe_params_cvec_lr, cv=3,n_jobs = 2,verbose = 1)\n",
    "gs.fit(X_train,y_train)\n",
    "\n",
    "print(f'Best Score: {gs.best_score_}')\n",
    "print(f'Best Parameters: {gs.best_params_}')\n",
    "print(f'Train Accuracy Score: {gs.score(X_train,y_train)}')\n",
    "print(f'Test Accuracy Score: {gs.score(X_test,y_test)}')\n",
    "pd.DataFrame(confusion_matrix(y_test,gs.predict(X_test)),\n",
    "                              index = ['actual conspiracy', 'actual onion'],\n",
    "                              columns = ['predicted conspiracy', 'predicted onion'])"
   ]
  },
  {
   "cell_type": "markdown",
   "metadata": {},
   "source": [
    "#### TF-IDF Vectorizer"
   ]
  },
  {
   "cell_type": "code",
   "execution_count": 65,
   "metadata": {},
   "outputs": [
    {
     "name": "stdout",
     "output_type": "stream",
     "text": [
      "Fitting 3 folds for each of 324 candidates, totalling 972 fits\n"
     ]
    },
    {
     "name": "stderr",
     "output_type": "stream",
     "text": [
      "[Parallel(n_jobs=2)]: Using backend LokyBackend with 2 concurrent workers.\n",
      "[Parallel(n_jobs=2)]: Done 540 tasks      | elapsed:    5.3s\n"
     ]
    },
    {
     "name": "stdout",
     "output_type": "stream",
     "text": [
      "Best Score: 0.7998560115190786\n",
      "Best Parameters: {'lr__penalty': 'l2', 'tvec__max_df': 0.3, 'tvec__max_features': 1100, 'tvec__min_df': 3, 'tvec__ngram_range': (1, 2), 'tvec__stop_words': None}\n",
      "Train Accuracy Score: 0.8970482361411087\n",
      "Test Accuracy Score: 0.8012958963282938\n"
     ]
    },
    {
     "name": "stderr",
     "output_type": "stream",
     "text": [
      "[Parallel(n_jobs=2)]: Done 972 out of 972 | elapsed:   11.4s finished\n"
     ]
    },
    {
     "data": {
      "text/html": [
       "<div>\n",
       "<style scoped>\n",
       "    .dataframe tbody tr th:only-of-type {\n",
       "        vertical-align: middle;\n",
       "    }\n",
       "\n",
       "    .dataframe tbody tr th {\n",
       "        vertical-align: top;\n",
       "    }\n",
       "\n",
       "    .dataframe thead th {\n",
       "        text-align: right;\n",
       "    }\n",
       "</style>\n",
       "<table border=\"1\" class=\"dataframe\">\n",
       "  <thead>\n",
       "    <tr style=\"text-align: right;\">\n",
       "      <th></th>\n",
       "      <th>predicted conspiracy</th>\n",
       "      <th>predicted onion</th>\n",
       "    </tr>\n",
       "  </thead>\n",
       "  <tbody>\n",
       "    <tr>\n",
       "      <th>actual conspiracy</th>\n",
       "      <td>184</td>\n",
       "      <td>47</td>\n",
       "    </tr>\n",
       "    <tr>\n",
       "      <th>actual onion</th>\n",
       "      <td>45</td>\n",
       "      <td>187</td>\n",
       "    </tr>\n",
       "  </tbody>\n",
       "</table>\n",
       "</div>"
      ],
      "text/plain": [
       "                   predicted conspiracy  predicted onion\n",
       "actual conspiracy                   184               47\n",
       "actual onion                         45              187"
      ]
     },
     "execution_count": 65,
     "metadata": {},
     "output_type": "execute_result"
    }
   ],
   "source": [
    "pipe_tvec_lr = Pipeline([\n",
    "    ('tvec', TfidfVectorizer()),\n",
    "    ('lr', LogisticRegression())\n",
    "])\n",
    "\n",
    "pipe_params_tvec_lr = {\n",
    "    'tvec__max_features': [900,1000,1100],\n",
    "    'tvec__min_df': [3,4,5],\n",
    "    'tvec__max_df': [.3,.31,.33],\n",
    "    'tvec__ngram_range': [(1,1),(1,2)],\n",
    "    'tvec__stop_words': [None, stop_english_common,'english'],\n",
    "    'lr__penalty': ['l1','l2']\n",
    "}\n",
    "\n",
    "gs = GridSearchCV(pipe_tvec_lr, param_grid=pipe_params_tvec_lr, cv=3, n_jobs = 2, verbose = 1)\n",
    "gs.fit(X_train,y_train)\n",
    "print(f'Best Score: {gs.best_score_}')\n",
    "print(f'Best Parameters: {gs.best_params_}')\n",
    "print(f'Train Accuracy Score: {gs.score(X_train,y_train)}')\n",
    "print(f'Test Accuracy Score: {gs.score(X_test,y_test)}')\n",
    "pd.DataFrame(confusion_matrix(y_test,gs.predict(X_test)),\n",
    "                              index = ['actual conspiracy', 'actual onion'],\n",
    "                              columns = ['predicted conspiracy', 'predicted onion'])"
   ]
  },
  {
   "cell_type": "markdown",
   "metadata": {},
   "source": [
    "### Multinomial Naive Bayes"
   ]
  },
  {
   "cell_type": "markdown",
   "metadata": {},
   "source": [
    "#### CountVectorizer"
   ]
  },
  {
   "cell_type": "code",
   "execution_count": 66,
   "metadata": {},
   "outputs": [
    {
     "name": "stdout",
     "output_type": "stream",
     "text": [
      "Fitting 3 folds for each of 540 candidates, totalling 1620 fits\n"
     ]
    },
    {
     "name": "stderr",
     "output_type": "stream",
     "text": [
      "[Parallel(n_jobs=3)]: Using backend LokyBackend with 3 concurrent workers.\n",
      "[Parallel(n_jobs=3)]: Done 166 tasks      | elapsed:    2.3s\n",
      "/Users/tahir/anaconda3/lib/python3.8/site-packages/joblib/externals/loky/process_executor.py:688: UserWarning: A worker stopped while some jobs were given to the executor. This can be caused by a too short worker timeout or by a memory leak.\n",
      "  warnings.warn(\n",
      "[Parallel(n_jobs=3)]: Done 1366 tasks      | elapsed:   14.7s\n"
     ]
    },
    {
     "name": "stdout",
     "output_type": "stream",
     "text": [
      "Best Score: 0.7969762419006479\n",
      "Best Parameters: {'cvec__max_df': 0.33, 'cvec__max_features': None, 'cvec__min_df': 2, 'cvec__ngram_range': (1, 1), 'cvec__stop_words': None}\n",
      "Train Accuracy Score: 0.9323254139668826\n",
      "Test Accuracy Score: 0.816414686825054\n"
     ]
    },
    {
     "name": "stderr",
     "output_type": "stream",
     "text": [
      "[Parallel(n_jobs=3)]: Done 1620 out of 1620 | elapsed:   17.2s finished\n"
     ]
    },
    {
     "data": {
      "text/html": [
       "<div>\n",
       "<style scoped>\n",
       "    .dataframe tbody tr th:only-of-type {\n",
       "        vertical-align: middle;\n",
       "    }\n",
       "\n",
       "    .dataframe tbody tr th {\n",
       "        vertical-align: top;\n",
       "    }\n",
       "\n",
       "    .dataframe thead th {\n",
       "        text-align: right;\n",
       "    }\n",
       "</style>\n",
       "<table border=\"1\" class=\"dataframe\">\n",
       "  <thead>\n",
       "    <tr style=\"text-align: right;\">\n",
       "      <th></th>\n",
       "      <th>predicted conspiracy</th>\n",
       "      <th>predicted onion</th>\n",
       "    </tr>\n",
       "  </thead>\n",
       "  <tbody>\n",
       "    <tr>\n",
       "      <th>actual conspiracy</th>\n",
       "      <td>200</td>\n",
       "      <td>31</td>\n",
       "    </tr>\n",
       "    <tr>\n",
       "      <th>actual onion</th>\n",
       "      <td>54</td>\n",
       "      <td>178</td>\n",
       "    </tr>\n",
       "  </tbody>\n",
       "</table>\n",
       "</div>"
      ],
      "text/plain": [
       "                   predicted conspiracy  predicted onion\n",
       "actual conspiracy                   200               31\n",
       "actual onion                         54              178"
      ]
     },
     "execution_count": 66,
     "metadata": {},
     "output_type": "execute_result"
    }
   ],
   "source": [
    "pipe_cvec_mnb = Pipeline([\n",
    "    ('cvec', CountVectorizer()),\n",
    "    ('mnb', MultinomialNB())\n",
    "])\n",
    "\n",
    "pipe_params_cvec_mnb = {\n",
    "    'cvec__max_features': [None,1000,1100,1200,1300],\n",
    "    'cvec__min_df': [2,3,4],\n",
    "    'cvec__max_df': [.3,.32,.33,.34],\n",
    "    'cvec__ngram_range': [(1,1),(1,2),(1,3)],\n",
    "    'cvec__stop_words': [None, stop_english_common,'english']\n",
    "}\n",
    "\n",
    "gs = GridSearchCV(pipe_cvec_mnb, param_grid=pipe_params_cvec_mnb, cv=3, n_jobs = 3, verbose = 1)\n",
    "gs.fit(X_train,y_train)\n",
    "print(f'Best Score: {gs.best_score_}')\n",
    "print(f'Best Parameters: {gs.best_params_}')\n",
    "print(f'Train Accuracy Score: {gs.score(X_train,y_train)}')\n",
    "print(f'Test Accuracy Score: {gs.score(X_test,y_test)}')\n",
    "pd.DataFrame(confusion_matrix(y_test,gs.predict(X_test)),\n",
    "                              index = ['actual conspiracy', 'actual onion'],\n",
    "                              columns = ['predicted conspiracy', 'predicted onion'])"
   ]
  },
  {
   "cell_type": "markdown",
   "metadata": {},
   "source": [
    "#### TF-IDF Vectorizer"
   ]
  },
  {
   "cell_type": "code",
   "execution_count": 67,
   "metadata": {
    "code_folding": []
   },
   "outputs": [
    {
     "name": "stdout",
     "output_type": "stream",
     "text": [
      "Fitting 3 folds for each of 216 candidates, totalling 648 fits\n"
     ]
    },
    {
     "name": "stderr",
     "output_type": "stream",
     "text": [
      "[Parallel(n_jobs=3)]: Using backend LokyBackend with 3 concurrent workers.\n",
      "[Parallel(n_jobs=3)]: Done 250 tasks      | elapsed:    2.2s\n",
      "/Users/tahir/anaconda3/lib/python3.8/site-packages/joblib/externals/loky/process_executor.py:688: UserWarning: A worker stopped while some jobs were given to the executor. This can be caused by a too short worker timeout or by a memory leak.\n",
      "  warnings.warn(\n"
     ]
    },
    {
     "name": "stdout",
     "output_type": "stream",
     "text": [
      "Best Score: 0.7919366450683946\n",
      "Best Parameters: {'tvec__max_df': 0.33, 'tvec__max_features': 1300, 'tvec__min_df': 2, 'tvec__ngram_range': (1, 1), 'tvec__stop_words': None}\n",
      "Train Accuracy Score: 0.9272858171346292\n",
      "Test Accuracy Score: 0.8077753779697624\n"
     ]
    },
    {
     "name": "stderr",
     "output_type": "stream",
     "text": [
      "[Parallel(n_jobs=3)]: Done 648 out of 648 | elapsed:    5.8s finished\n"
     ]
    },
    {
     "data": {
      "text/html": [
       "<div>\n",
       "<style scoped>\n",
       "    .dataframe tbody tr th:only-of-type {\n",
       "        vertical-align: middle;\n",
       "    }\n",
       "\n",
       "    .dataframe tbody tr th {\n",
       "        vertical-align: top;\n",
       "    }\n",
       "\n",
       "    .dataframe thead th {\n",
       "        text-align: right;\n",
       "    }\n",
       "</style>\n",
       "<table border=\"1\" class=\"dataframe\">\n",
       "  <thead>\n",
       "    <tr style=\"text-align: right;\">\n",
       "      <th></th>\n",
       "      <th>predicted conspiracy</th>\n",
       "      <th>predicted onion</th>\n",
       "    </tr>\n",
       "  </thead>\n",
       "  <tbody>\n",
       "    <tr>\n",
       "      <th>actual conspiracy</th>\n",
       "      <td>196</td>\n",
       "      <td>35</td>\n",
       "    </tr>\n",
       "    <tr>\n",
       "      <th>actual onion</th>\n",
       "      <td>54</td>\n",
       "      <td>178</td>\n",
       "    </tr>\n",
       "  </tbody>\n",
       "</table>\n",
       "</div>"
      ],
      "text/plain": [
       "                   predicted conspiracy  predicted onion\n",
       "actual conspiracy                   196               35\n",
       "actual onion                         54              178"
      ]
     },
     "execution_count": 67,
     "metadata": {},
     "output_type": "execute_result"
    }
   ],
   "source": [
    "pipe_tvec_mnb = Pipeline([\n",
    "    ('tvec', TfidfVectorizer()),\n",
    "    ('mnb', MultinomialNB())\n",
    "])\n",
    "\n",
    "pipe_params_tvec_mnb = {\n",
    "    'tvec__max_features': [1300,1400,1500],\n",
    "    'tvec__min_df': [2,3,4],\n",
    "    'tvec__max_df': [.3,.31,.32,.33],\n",
    "    'tvec__ngram_range': [(1,1),(1,2)],\n",
    "    'tvec__stop_words': [None,stop_english_common,'english']\n",
    "}\n",
    "\n",
    "gs = GridSearchCV(pipe_tvec_mnb, param_grid=pipe_params_tvec_mnb, cv=3,n_jobs = 3,verbose = 1)\n",
    "gs.fit(X_train,y_train)\n",
    "print(f'Best Score: {gs.best_score_}')\n",
    "print(f'Best Parameters: {gs.best_params_}')\n",
    "print(f'Train Accuracy Score: {gs.score(X_train,y_train)}')\n",
    "print(f'Test Accuracy Score: {gs.score(X_test,y_test)}')\n",
    "pd.DataFrame(confusion_matrix(y_test,gs.predict(X_test)),\n",
    "                              index = ['actual conspiracy', 'actual onion'],\n",
    "                              columns = ['predicted conspiracy', 'predicted onion'])"
   ]
  },
  {
   "cell_type": "markdown",
   "metadata": {},
   "source": [
    "### Random Forest"
   ]
  },
  {
   "cell_type": "markdown",
   "metadata": {},
   "source": [
    "#### CountVectorizer"
   ]
  },
  {
   "cell_type": "code",
   "execution_count": 68,
   "metadata": {},
   "outputs": [
    {
     "name": "stdout",
     "output_type": "stream",
     "text": [
      "Fitting 3 folds for each of 972 candidates, totalling 2916 fits\n"
     ]
    },
    {
     "name": "stderr",
     "output_type": "stream",
     "text": [
      "[Parallel(n_jobs=-1)]: Using backend LokyBackend with 8 concurrent workers.\n",
      "[Parallel(n_jobs=-1)]: Done  34 tasks      | elapsed:   14.2s\n",
      "/Users/tahir/anaconda3/lib/python3.8/site-packages/joblib/externals/loky/process_executor.py:688: UserWarning: A worker stopped while some jobs were given to the executor. This can be caused by a too short worker timeout or by a memory leak.\n",
      "  warnings.warn(\n",
      "[Parallel(n_jobs=-1)]: Done 184 tasks      | elapsed:  1.0min\n",
      "[Parallel(n_jobs=-1)]: Done 434 tasks      | elapsed:  2.5min\n",
      "[Parallel(n_jobs=-1)]: Done 784 tasks      | elapsed:  4.4min\n",
      "[Parallel(n_jobs=-1)]: Done 1234 tasks      | elapsed:  6.9min\n",
      "[Parallel(n_jobs=-1)]: Done 1784 tasks      | elapsed: 10.1min\n",
      "[Parallel(n_jobs=-1)]: Done 2434 tasks      | elapsed: 13.8min\n",
      "[Parallel(n_jobs=-1)]: Done 2916 out of 2916 | elapsed: 16.4min finished\n"
     ]
    },
    {
     "name": "stdout",
     "output_type": "stream",
     "text": [
      "Best Score: 0.7998560115190786\n",
      "Best Parameters: {'cvec__max_df': 0.45, 'cvec__max_features': 3000, 'cvec__min_df': 4, 'cvec__ngram_range': (1, 1), 'cvec__stop_words': None, 'rf__max_depth': None, 'rf__n_estimators': 1200}\n",
      "Train Accuracy Score: 0.9949604031677466\n",
      "Test Accuracy Score: 0.8099352051835853\n"
     ]
    },
    {
     "data": {
      "text/html": [
       "<div>\n",
       "<style scoped>\n",
       "    .dataframe tbody tr th:only-of-type {\n",
       "        vertical-align: middle;\n",
       "    }\n",
       "\n",
       "    .dataframe tbody tr th {\n",
       "        vertical-align: top;\n",
       "    }\n",
       "\n",
       "    .dataframe thead th {\n",
       "        text-align: right;\n",
       "    }\n",
       "</style>\n",
       "<table border=\"1\" class=\"dataframe\">\n",
       "  <thead>\n",
       "    <tr style=\"text-align: right;\">\n",
       "      <th></th>\n",
       "      <th>predicted conspiracy</th>\n",
       "      <th>predicted onion</th>\n",
       "    </tr>\n",
       "  </thead>\n",
       "  <tbody>\n",
       "    <tr>\n",
       "      <th>actual conspiracy</th>\n",
       "      <td>210</td>\n",
       "      <td>21</td>\n",
       "    </tr>\n",
       "    <tr>\n",
       "      <th>actual onion</th>\n",
       "      <td>67</td>\n",
       "      <td>165</td>\n",
       "    </tr>\n",
       "  </tbody>\n",
       "</table>\n",
       "</div>"
      ],
      "text/plain": [
       "                   predicted conspiracy  predicted onion\n",
       "actual conspiracy                   210               21\n",
       "actual onion                         67              165"
      ]
     },
     "execution_count": 68,
     "metadata": {},
     "output_type": "execute_result"
    }
   ],
   "source": [
    "pipe_cvec_rf = Pipeline([\n",
    "    ('cvec', CountVectorizer()),\n",
    "    ('rf', RandomForestClassifier())\n",
    "])\n",
    "\n",
    "pipe_params_cvec_rf = {\n",
    "###### Count Vectorizer Params ######   \n",
    "    'cvec__max_features': [2500,3000,3500],\n",
    "    'cvec__min_df': [3,4,5],\n",
    "    'cvec__max_df': [.4,.45,.5],\n",
    "    'cvec__ngram_range': [(1,1),(1,2)],\n",
    "    'cvec__stop_words': [None,'english'],\n",
    "###### Randaom Forest Params ######\n",
    "    'rf__max_depth': [None,2,5],\n",
    "    #'rf__max_features': [None, .5, .75, 'auto'],\n",
    "    'rf__n_estimators': [1200, 1350, 1500]\n",
    "}\n",
    "\n",
    "gs = GridSearchCV(pipe_cvec_rf, param_grid=pipe_params_cvec_rf, cv=3,n_jobs=-1,verbose=1)\n",
    "gs.fit(X_train,y_train)\n",
    "print(f'Best Score: {gs.best_score_}')\n",
    "print(f'Best Parameters: {gs.best_params_}')\n",
    "print(f'Train Accuracy Score: {gs.score(X_train,y_train)}')\n",
    "print(f'Test Accuracy Score: {gs.score(X_test,y_test)}')\n",
    "pd.DataFrame(confusion_matrix(y_test,gs.predict(X_test)),\n",
    "                              index = ['actual conspiracy', 'actual onion'],\n",
    "                              columns = ['predicted conspiracy', 'predicted onion'])"
   ]
  },
  {
   "cell_type": "markdown",
   "metadata": {},
   "source": [
    "#### TF-IDF Vectorizer"
   ]
  },
  {
   "cell_type": "code",
   "execution_count": 69,
   "metadata": {},
   "outputs": [
    {
     "name": "stdout",
     "output_type": "stream",
     "text": [
      "Fitting 3 folds for each of 192 candidates, totalling 576 fits\n"
     ]
    },
    {
     "name": "stderr",
     "output_type": "stream",
     "text": [
      "[Parallel(n_jobs=3)]: Using backend LokyBackend with 3 concurrent workers.\n",
      "[Parallel(n_jobs=3)]: Done  44 tasks      | elapsed:    4.8s\n",
      "[Parallel(n_jobs=3)]: Done 194 tasks      | elapsed:   20.8s\n",
      "[Parallel(n_jobs=3)]: Done 444 tasks      | elapsed:   50.3s\n",
      "[Parallel(n_jobs=3)]: Done 576 out of 576 | elapsed:  1.2min finished\n"
     ]
    },
    {
     "name": "stdout",
     "output_type": "stream",
     "text": [
      "Best Score: 0.7883369330453563\n",
      "Best Parameters: {'rf__max_depth': 10, 'rf__n_estimators': 500, 'tvec__max_df': 0.9, 'tvec__max_features': 3300, 'tvec__min_df': 2, 'tvec__ngram_range': (1, 1), 'tvec__stop_words': None}\n",
      "Train Accuracy Score: 0.8675305975521959\n",
      "Test Accuracy Score: 0.775377969762419\n"
     ]
    },
    {
     "data": {
      "text/html": [
       "<div>\n",
       "<style scoped>\n",
       "    .dataframe tbody tr th:only-of-type {\n",
       "        vertical-align: middle;\n",
       "    }\n",
       "\n",
       "    .dataframe tbody tr th {\n",
       "        vertical-align: top;\n",
       "    }\n",
       "\n",
       "    .dataframe thead th {\n",
       "        text-align: right;\n",
       "    }\n",
       "</style>\n",
       "<table border=\"1\" class=\"dataframe\">\n",
       "  <thead>\n",
       "    <tr style=\"text-align: right;\">\n",
       "      <th></th>\n",
       "      <th>predicted conspiracy</th>\n",
       "      <th>predicted onion</th>\n",
       "    </tr>\n",
       "  </thead>\n",
       "  <tbody>\n",
       "    <tr>\n",
       "      <th>actual conspiracy</th>\n",
       "      <td>181</td>\n",
       "      <td>50</td>\n",
       "    </tr>\n",
       "    <tr>\n",
       "      <th>actual onion</th>\n",
       "      <td>54</td>\n",
       "      <td>178</td>\n",
       "    </tr>\n",
       "  </tbody>\n",
       "</table>\n",
       "</div>"
      ],
      "text/plain": [
       "                   predicted conspiracy  predicted onion\n",
       "actual conspiracy                   181               50\n",
       "actual onion                         54              178"
      ]
     },
     "execution_count": 69,
     "metadata": {},
     "output_type": "execute_result"
    }
   ],
   "source": [
    "pipe_tvec_rf = Pipeline([\n",
    "    ('tvec', TfidfVectorizer()),\n",
    "    ('rf', RandomForestClassifier())\n",
    "])\n",
    "\n",
    "pipe_params_tvec_rf = {\n",
    "    'tvec__max_features': [3300,3750],\n",
    "    'tvec__min_df': [2,3],\n",
    "    'tvec__max_df': [.9,.98],\n",
    "    'tvec__ngram_range': [(1,1),(1,2),(2,2)],\n",
    "    'tvec__stop_words': [None,'english'],\n",
    "    'rf__max_depth': [5,10],\n",
    "    #'rf__max_features': [None, .5, .75, 'auto'],\n",
    "    'rf__n_estimators': [300,500]\n",
    "}\n",
    "\n",
    "gs = GridSearchCV(pipe_tvec_rf, param_grid=pipe_params_tvec_rf, cv=3,verbose = 1, n_jobs=3)\n",
    "gs.fit(X_train,y_train)\n",
    "print(f'Best Score: {gs.best_score_}')\n",
    "print(f'Best Parameters: {gs.best_params_}')\n",
    "\n",
    "print(f'Train Accuracy Score: {gs.score(X_train,y_train)}')\n",
    "print(f'Test Accuracy Score: {gs.score(X_test,y_test)}')\n",
    "pd.DataFrame(confusion_matrix(y_test,gs.predict(X_test)),\n",
    "                              index = ['actual conspiracy', 'actual onion'],\n",
    "                              columns = ['predicted conspiracy', 'predicted onion'])"
   ]
  },
  {
   "cell_type": "markdown",
   "metadata": {},
   "source": [
    "## Summary and Conclusion"
   ]
  },
  {
   "cell_type": "markdown",
   "metadata": {},
   "source": [
    "The highest accuracy in predicting the classification of posts based on their titles is the CountVectorizer with Multinomial Naive Bayes Classifier and Logistic regression, respectively:\n",
    "\n",
    "A Train Accuracy Score: 0.93\n",
    "\n",
    "A Test Accuracy Score: 0.82\n",
    "\n",
    "### and\n",
    "\n",
    "\n",
    "A training set accuracy score of 0.94,\n",
    "\n",
    "A testing set accuracy score of 0.81."
   ]
  }
 ],
 "metadata": {
  "kernelspec": {
   "display_name": "Python 3",
   "language": "python",
   "name": "python3"
  },
  "language_info": {
   "codemirror_mode": {
    "name": "ipython",
    "version": 3
   },
   "file_extension": ".py",
   "mimetype": "text/x-python",
   "name": "python",
   "nbconvert_exporter": "python",
   "pygments_lexer": "ipython3",
   "version": "3.8.5"
  },
  "toc": {
   "base_numbering": 1,
   "nav_menu": {},
   "number_sections": false,
   "sideBar": true,
   "skip_h1_title": false,
   "title_cell": "Table of Contents",
   "title_sidebar": "Contents",
   "toc_cell": true,
   "toc_position": {
    "height": "calc(100% - 180px)",
    "left": "10px",
    "top": "150px",
    "width": "279px"
   },
   "toc_section_display": true,
   "toc_window_display": true
  }
 },
 "nbformat": 4,
 "nbformat_minor": 4
}
